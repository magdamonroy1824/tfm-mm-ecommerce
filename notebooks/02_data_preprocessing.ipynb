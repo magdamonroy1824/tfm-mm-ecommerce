{
 "cells": [
  {
   "cell_type": "markdown",
   "metadata": {},
   "source": [
    "# Preprocesamiento de Datos\n",
    "## Predicción de Clientes Fidelizables en E-commerce\n",
    "\n",
    "### Objetivos del Preprocesamiento\n",
    "\n",
    "Este notebook aborda la limpieza y preparación del dataset Online Retail para el análisis posterior. Los objetivos específicos incluyen:\n",
    "\n",
    "1. **Tratamiento de valores faltantes**\n",
    "   - Análisis del impacto de la eliminación de registros\n",
    "   - Estrategias de imputación cuando sea apropiado\n",
    "   - Justificación de decisiones de limpieza\n",
    "\n",
    "2. **Eliminación de outliers y anomalías**\n",
    "   - Identificación de transacciones canceladas\n",
    "   - Detección de valores negativos o inconsistentes\n",
    "   - Análisis de distribuciones extremas\n",
    "\n",
    "3. **Corrección de inconsistencias**\n",
    "   - Estandarización de formatos\n",
    "   - Validación de reglas de negocio\n",
    "   - Creación de variables derivadas básicas\n",
    "\n",
    "### Metodología de Limpieza\n",
    "\n",
    "El proceso de limpieza sigue un enfoque conservador que prioriza la preservación de información válida mientras elimina datos que puedan comprometer la calidad del análisis."
   ]
  },
  {
   "cell_type": "code",
   "execution_count": 7,
   "metadata": {},
   "outputs": [
    {
     "name": "stdout",
     "output_type": "stream",
     "text": [
      "Librerías cargadas para preprocesamiento\n",
      "Fecha de procesamiento: 2025-09-01 13:19:02\n"
     ]
    }
   ],
   "source": [
    "# Configuración inicial\n",
    "import pandas as pd\n",
    "import numpy as np\n",
    "import matplotlib.pyplot as plt\n",
    "import seaborn as sns\n",
    "import plotly.express as px\n",
    "import plotly.graph_objects as go\n",
    "from datetime import datetime\n",
    "import warnings\n",
    "warnings.filterwarnings('ignore')\n",
    "\n",
    "# Configuración de visualización\n",
    "plt.style.use('default')\n",
    "sns.set_palette(\"husl\")\n",
    "\n",
    "print(\"Librerías cargadas para preprocesamiento\")\n",
    "print(f\"Fecha de procesamiento: {datetime.now().strftime('%Y-%m-%d %H:%M:%S')}\")"
   ]
  },
  {
   "cell_type": "code",
   "execution_count": 8,
   "metadata": {},
   "outputs": [
    {
     "name": "stdout",
     "output_type": "stream",
     "text": [
      "Dataset original cargado desde archivo Excel\n",
      "Dataset inicial: 541,909 filas × 8 columnas\n",
      "Período de datos: 2010-12-01 08:26:00 a 2011-12-09 12:50:00\n"
     ]
    }
   ],
   "source": [
    "# Cargar datos del análisis exploratorio\n",
    "try:\n",
    "    df = pd.read_excel('../data/raw/online_retail.xlsx')\n",
    "    print(\"Dataset original cargado desde archivo Excel\")\n",
    "except FileNotFoundError:\n",
    "    print(\"Archivo no encontrado. Creando dataset sintético...\")\n",
    "    # Recrear dataset sintético consistente\n",
    "    np.random.seed(42)\n",
    "    n_samples = 10000\n",
    "    \n",
    "    df = pd.DataFrame({\n",
    "        'InvoiceNo': [f'53{i:04d}' for i in range(n_samples)],\n",
    "        'StockCode': np.random.choice(['85123A', '71053', '84406B'], n_samples),\n",
    "        'Description': np.random.choice(['WHITE HANGING HEART', 'WHITE METAL LANTERN'], n_samples),\n",
    "        'Quantity': np.random.poisson(3, n_samples) + 1,\n",
    "        'InvoiceDate': pd.date_range('2010-12-01', '2011-12-09', periods=n_samples),\n",
    "        'UnitPrice': np.random.gamma(2, 2, n_samples),\n",
    "        'CustomerID': np.random.choice(range(12346, 18287), n_samples),\n",
    "        'Country': np.random.choice(['United Kingdom', 'France', 'Germany'], n_samples, p=[0.7, 0.15, 0.15])\n",
    "    })\n",
    "    \n",
    "    # Introducir problemas de calidad para demostrar limpieza\n",
    "    missing_mask = np.random.random(n_samples) < 0.25\n",
    "    df.loc[missing_mask, 'CustomerID'] = np.nan\n",
    "    \n",
    "    # Introducir cantidades negativas (devoluciones)\n",
    "    negative_mask = np.random.random(n_samples) < 0.05\n",
    "    df.loc[negative_mask, 'Quantity'] = -df.loc[negative_mask, 'Quantity']\n",
    "    \n",
    "    # Introducir facturas canceladas\n",
    "    cancel_mask = np.random.random(n_samples) < 0.03\n",
    "    df.loc[cancel_mask, 'InvoiceNo'] = 'C' + df.loc[cancel_mask, 'InvoiceNo']\n",
    "\n",
    "# Convertir fecha a datetime\n",
    "df['InvoiceDate'] = pd.to_datetime(df['InvoiceDate'])\n",
    "\n",
    "print(f\"Dataset inicial: {df.shape[0]:,} filas × {df.shape[1]} columnas\")\n",
    "print(f\"Período de datos: {df['InvoiceDate'].min()} a {df['InvoiceDate'].max()}\")"
   ]
  },
  {
   "cell_type": "markdown",
   "metadata": {},
   "source": [
    "## 1. Análisis Previo a la Limpieza\n",
    "\n",
    "Antes de proceder con la limpieza, es fundamental entender la naturaleza y el impacto de los problemas de calidad identificados."
   ]
  },
  {
   "cell_type": "code",
   "execution_count": 9,
   "metadata": {},
   "outputs": [
    {
     "name": "stdout",
     "output_type": "stream",
     "text": [
      "ANÁLISIS DE PROBLEMAS DE CALIDAD\n",
      "========================================\n",
      "1. CustomerID faltantes: 135,080 (24.9%)\n",
      "2. Transacciones canceladas: 9,288 (1.7%)\n",
      "3. Cantidades negativas: 10,624 (2.0%)\n",
      "4. Cantidades cero: 0 (0.0%)\n",
      "5. Precios negativos/cero: 2,517 (0.5%)\n"
     ]
    },
    {
     "data": {
      "application/vnd.plotly.v1+json": {
       "config": {
        "plotlyServerURL": "https://plot.ly"
       },
       "data": [
        {
         "hovertemplate": "Tipo de Problema=%{x}<br>Porcentaje del Dataset (%)=%{text}<extra></extra>",
         "legendgroup": "",
         "marker": {
          "color": "#636efa",
          "pattern": {
           "shape": ""
          }
         },
         "name": "",
         "orientation": "v",
         "showlegend": false,
         "text": {
          "bdata": "dCgD1zvtOEBwp3RLTWz7PzJ3yOAcXv8/AAAAAAAAAABdG1W33LndPw==",
          "dtype": "f8"
         },
         "textposition": "outside",
         "texttemplate": "%{text:.1f}%",
         "type": "bar",
         "x": [
          "CustomerID Faltante",
          "Transacciones Canceladas",
          "Cantidades Negativas",
          "Cantidades Cero",
          "Precios Negativos/Cero"
         ],
         "xaxis": "x",
         "y": {
          "bdata": "dCgD1zvtOEBwp3RLTWz7PzJ3yOAcXv8/AAAAAAAAAABdG1W33LndPw==",
          "dtype": "f8"
         },
         "yaxis": "y"
        }
       ],
       "layout": {
        "barmode": "relative",
        "height": 500,
        "legend": {
         "tracegroupgap": 0
        },
        "template": {
         "data": {
          "bar": [
           {
            "error_x": {
             "color": "#2a3f5f"
            },
            "error_y": {
             "color": "#2a3f5f"
            },
            "marker": {
             "line": {
              "color": "#E5ECF6",
              "width": 0.5
             },
             "pattern": {
              "fillmode": "overlay",
              "size": 10,
              "solidity": 0.2
             }
            },
            "type": "bar"
           }
          ],
          "barpolar": [
           {
            "marker": {
             "line": {
              "color": "#E5ECF6",
              "width": 0.5
             },
             "pattern": {
              "fillmode": "overlay",
              "size": 10,
              "solidity": 0.2
             }
            },
            "type": "barpolar"
           }
          ],
          "carpet": [
           {
            "aaxis": {
             "endlinecolor": "#2a3f5f",
             "gridcolor": "white",
             "linecolor": "white",
             "minorgridcolor": "white",
             "startlinecolor": "#2a3f5f"
            },
            "baxis": {
             "endlinecolor": "#2a3f5f",
             "gridcolor": "white",
             "linecolor": "white",
             "minorgridcolor": "white",
             "startlinecolor": "#2a3f5f"
            },
            "type": "carpet"
           }
          ],
          "choropleth": [
           {
            "colorbar": {
             "outlinewidth": 0,
             "ticks": ""
            },
            "type": "choropleth"
           }
          ],
          "contour": [
           {
            "colorbar": {
             "outlinewidth": 0,
             "ticks": ""
            },
            "colorscale": [
             [
              0,
              "#0d0887"
             ],
             [
              0.1111111111111111,
              "#46039f"
             ],
             [
              0.2222222222222222,
              "#7201a8"
             ],
             [
              0.3333333333333333,
              "#9c179e"
             ],
             [
              0.4444444444444444,
              "#bd3786"
             ],
             [
              0.5555555555555556,
              "#d8576b"
             ],
             [
              0.6666666666666666,
              "#ed7953"
             ],
             [
              0.7777777777777778,
              "#fb9f3a"
             ],
             [
              0.8888888888888888,
              "#fdca26"
             ],
             [
              1,
              "#f0f921"
             ]
            ],
            "type": "contour"
           }
          ],
          "contourcarpet": [
           {
            "colorbar": {
             "outlinewidth": 0,
             "ticks": ""
            },
            "type": "contourcarpet"
           }
          ],
          "heatmap": [
           {
            "colorbar": {
             "outlinewidth": 0,
             "ticks": ""
            },
            "colorscale": [
             [
              0,
              "#0d0887"
             ],
             [
              0.1111111111111111,
              "#46039f"
             ],
             [
              0.2222222222222222,
              "#7201a8"
             ],
             [
              0.3333333333333333,
              "#9c179e"
             ],
             [
              0.4444444444444444,
              "#bd3786"
             ],
             [
              0.5555555555555556,
              "#d8576b"
             ],
             [
              0.6666666666666666,
              "#ed7953"
             ],
             [
              0.7777777777777778,
              "#fb9f3a"
             ],
             [
              0.8888888888888888,
              "#fdca26"
             ],
             [
              1,
              "#f0f921"
             ]
            ],
            "type": "heatmap"
           }
          ],
          "histogram": [
           {
            "marker": {
             "pattern": {
              "fillmode": "overlay",
              "size": 10,
              "solidity": 0.2
             }
            },
            "type": "histogram"
           }
          ],
          "histogram2d": [
           {
            "colorbar": {
             "outlinewidth": 0,
             "ticks": ""
            },
            "colorscale": [
             [
              0,
              "#0d0887"
             ],
             [
              0.1111111111111111,
              "#46039f"
             ],
             [
              0.2222222222222222,
              "#7201a8"
             ],
             [
              0.3333333333333333,
              "#9c179e"
             ],
             [
              0.4444444444444444,
              "#bd3786"
             ],
             [
              0.5555555555555556,
              "#d8576b"
             ],
             [
              0.6666666666666666,
              "#ed7953"
             ],
             [
              0.7777777777777778,
              "#fb9f3a"
             ],
             [
              0.8888888888888888,
              "#fdca26"
             ],
             [
              1,
              "#f0f921"
             ]
            ],
            "type": "histogram2d"
           }
          ],
          "histogram2dcontour": [
           {
            "colorbar": {
             "outlinewidth": 0,
             "ticks": ""
            },
            "colorscale": [
             [
              0,
              "#0d0887"
             ],
             [
              0.1111111111111111,
              "#46039f"
             ],
             [
              0.2222222222222222,
              "#7201a8"
             ],
             [
              0.3333333333333333,
              "#9c179e"
             ],
             [
              0.4444444444444444,
              "#bd3786"
             ],
             [
              0.5555555555555556,
              "#d8576b"
             ],
             [
              0.6666666666666666,
              "#ed7953"
             ],
             [
              0.7777777777777778,
              "#fb9f3a"
             ],
             [
              0.8888888888888888,
              "#fdca26"
             ],
             [
              1,
              "#f0f921"
             ]
            ],
            "type": "histogram2dcontour"
           }
          ],
          "mesh3d": [
           {
            "colorbar": {
             "outlinewidth": 0,
             "ticks": ""
            },
            "type": "mesh3d"
           }
          ],
          "parcoords": [
           {
            "line": {
             "colorbar": {
              "outlinewidth": 0,
              "ticks": ""
             }
            },
            "type": "parcoords"
           }
          ],
          "pie": [
           {
            "automargin": true,
            "type": "pie"
           }
          ],
          "scatter": [
           {
            "fillpattern": {
             "fillmode": "overlay",
             "size": 10,
             "solidity": 0.2
            },
            "type": "scatter"
           }
          ],
          "scatter3d": [
           {
            "line": {
             "colorbar": {
              "outlinewidth": 0,
              "ticks": ""
             }
            },
            "marker": {
             "colorbar": {
              "outlinewidth": 0,
              "ticks": ""
             }
            },
            "type": "scatter3d"
           }
          ],
          "scattercarpet": [
           {
            "marker": {
             "colorbar": {
              "outlinewidth": 0,
              "ticks": ""
             }
            },
            "type": "scattercarpet"
           }
          ],
          "scattergeo": [
           {
            "marker": {
             "colorbar": {
              "outlinewidth": 0,
              "ticks": ""
             }
            },
            "type": "scattergeo"
           }
          ],
          "scattergl": [
           {
            "marker": {
             "colorbar": {
              "outlinewidth": 0,
              "ticks": ""
             }
            },
            "type": "scattergl"
           }
          ],
          "scattermap": [
           {
            "marker": {
             "colorbar": {
              "outlinewidth": 0,
              "ticks": ""
             }
            },
            "type": "scattermap"
           }
          ],
          "scattermapbox": [
           {
            "marker": {
             "colorbar": {
              "outlinewidth": 0,
              "ticks": ""
             }
            },
            "type": "scattermapbox"
           }
          ],
          "scatterpolar": [
           {
            "marker": {
             "colorbar": {
              "outlinewidth": 0,
              "ticks": ""
             }
            },
            "type": "scatterpolar"
           }
          ],
          "scatterpolargl": [
           {
            "marker": {
             "colorbar": {
              "outlinewidth": 0,
              "ticks": ""
             }
            },
            "type": "scatterpolargl"
           }
          ],
          "scatterternary": [
           {
            "marker": {
             "colorbar": {
              "outlinewidth": 0,
              "ticks": ""
             }
            },
            "type": "scatterternary"
           }
          ],
          "surface": [
           {
            "colorbar": {
             "outlinewidth": 0,
             "ticks": ""
            },
            "colorscale": [
             [
              0,
              "#0d0887"
             ],
             [
              0.1111111111111111,
              "#46039f"
             ],
             [
              0.2222222222222222,
              "#7201a8"
             ],
             [
              0.3333333333333333,
              "#9c179e"
             ],
             [
              0.4444444444444444,
              "#bd3786"
             ],
             [
              0.5555555555555556,
              "#d8576b"
             ],
             [
              0.6666666666666666,
              "#ed7953"
             ],
             [
              0.7777777777777778,
              "#fb9f3a"
             ],
             [
              0.8888888888888888,
              "#fdca26"
             ],
             [
              1,
              "#f0f921"
             ]
            ],
            "type": "surface"
           }
          ],
          "table": [
           {
            "cells": {
             "fill": {
              "color": "#EBF0F8"
             },
             "line": {
              "color": "white"
             }
            },
            "header": {
             "fill": {
              "color": "#C8D4E3"
             },
             "line": {
              "color": "white"
             }
            },
            "type": "table"
           }
          ]
         },
         "layout": {
          "annotationdefaults": {
           "arrowcolor": "#2a3f5f",
           "arrowhead": 0,
           "arrowwidth": 1
          },
          "autotypenumbers": "strict",
          "coloraxis": {
           "colorbar": {
            "outlinewidth": 0,
            "ticks": ""
           }
          },
          "colorscale": {
           "diverging": [
            [
             0,
             "#8e0152"
            ],
            [
             0.1,
             "#c51b7d"
            ],
            [
             0.2,
             "#de77ae"
            ],
            [
             0.3,
             "#f1b6da"
            ],
            [
             0.4,
             "#fde0ef"
            ],
            [
             0.5,
             "#f7f7f7"
            ],
            [
             0.6,
             "#e6f5d0"
            ],
            [
             0.7,
             "#b8e186"
            ],
            [
             0.8,
             "#7fbc41"
            ],
            [
             0.9,
             "#4d9221"
            ],
            [
             1,
             "#276419"
            ]
           ],
           "sequential": [
            [
             0,
             "#0d0887"
            ],
            [
             0.1111111111111111,
             "#46039f"
            ],
            [
             0.2222222222222222,
             "#7201a8"
            ],
            [
             0.3333333333333333,
             "#9c179e"
            ],
            [
             0.4444444444444444,
             "#bd3786"
            ],
            [
             0.5555555555555556,
             "#d8576b"
            ],
            [
             0.6666666666666666,
             "#ed7953"
            ],
            [
             0.7777777777777778,
             "#fb9f3a"
            ],
            [
             0.8888888888888888,
             "#fdca26"
            ],
            [
             1,
             "#f0f921"
            ]
           ],
           "sequentialminus": [
            [
             0,
             "#0d0887"
            ],
            [
             0.1111111111111111,
             "#46039f"
            ],
            [
             0.2222222222222222,
             "#7201a8"
            ],
            [
             0.3333333333333333,
             "#9c179e"
            ],
            [
             0.4444444444444444,
             "#bd3786"
            ],
            [
             0.5555555555555556,
             "#d8576b"
            ],
            [
             0.6666666666666666,
             "#ed7953"
            ],
            [
             0.7777777777777778,
             "#fb9f3a"
            ],
            [
             0.8888888888888888,
             "#fdca26"
            ],
            [
             1,
             "#f0f921"
            ]
           ]
          },
          "colorway": [
           "#636efa",
           "#EF553B",
           "#00cc96",
           "#ab63fa",
           "#FFA15A",
           "#19d3f3",
           "#FF6692",
           "#B6E880",
           "#FF97FF",
           "#FECB52"
          ],
          "font": {
           "color": "#2a3f5f"
          },
          "geo": {
           "bgcolor": "white",
           "lakecolor": "white",
           "landcolor": "#E5ECF6",
           "showlakes": true,
           "showland": true,
           "subunitcolor": "white"
          },
          "hoverlabel": {
           "align": "left"
          },
          "hovermode": "closest",
          "mapbox": {
           "style": "light"
          },
          "paper_bgcolor": "white",
          "plot_bgcolor": "#E5ECF6",
          "polar": {
           "angularaxis": {
            "gridcolor": "white",
            "linecolor": "white",
            "ticks": ""
           },
           "bgcolor": "#E5ECF6",
           "radialaxis": {
            "gridcolor": "white",
            "linecolor": "white",
            "ticks": ""
           }
          },
          "scene": {
           "xaxis": {
            "backgroundcolor": "#E5ECF6",
            "gridcolor": "white",
            "gridwidth": 2,
            "linecolor": "white",
            "showbackground": true,
            "ticks": "",
            "zerolinecolor": "white"
           },
           "yaxis": {
            "backgroundcolor": "#E5ECF6",
            "gridcolor": "white",
            "gridwidth": 2,
            "linecolor": "white",
            "showbackground": true,
            "ticks": "",
            "zerolinecolor": "white"
           },
           "zaxis": {
            "backgroundcolor": "#E5ECF6",
            "gridcolor": "white",
            "gridwidth": 2,
            "linecolor": "white",
            "showbackground": true,
            "ticks": "",
            "zerolinecolor": "white"
           }
          },
          "shapedefaults": {
           "line": {
            "color": "#2a3f5f"
           }
          },
          "ternary": {
           "aaxis": {
            "gridcolor": "white",
            "linecolor": "white",
            "ticks": ""
           },
           "baxis": {
            "gridcolor": "white",
            "linecolor": "white",
            "ticks": ""
           },
           "bgcolor": "#E5ECF6",
           "caxis": {
            "gridcolor": "white",
            "linecolor": "white",
            "ticks": ""
           }
          },
          "title": {
           "x": 0.05
          },
          "xaxis": {
           "automargin": true,
           "gridcolor": "white",
           "linecolor": "white",
           "ticks": "",
           "title": {
            "standoff": 15
           },
           "zerolinecolor": "white",
           "zerolinewidth": 2
          },
          "yaxis": {
           "automargin": true,
           "gridcolor": "white",
           "linecolor": "white",
           "ticks": "",
           "title": {
            "standoff": 15
           },
           "zerolinecolor": "white",
           "zerolinewidth": 2
          }
         }
        },
        "title": {
         "text": "Distribución de Problemas de Calidad de Datos",
         "x": 0.5
        },
        "xaxis": {
         "anchor": "y",
         "domain": [
          0,
          1
         ],
         "tickangle": -45,
         "title": {
          "text": "Tipo de Problema"
         }
        },
        "yaxis": {
         "anchor": "x",
         "domain": [
          0,
          1
         ],
         "title": {
          "text": "Porcentaje del Dataset (%)"
         }
        }
       }
      }
     },
     "metadata": {},
     "output_type": "display_data"
    }
   ],
   "source": [
    "# Análisis detallado de problemas de calidad\n",
    "print(\"ANÁLISIS DE PROBLEMAS DE CALIDAD\")\n",
    "print(\"=\" * 40)\n",
    "\n",
    "# 1. Valores faltantes en CustomerID\n",
    "missing_customers = df['CustomerID'].isnull().sum()\n",
    "missing_pct = (missing_customers / len(df)) * 100\n",
    "print(f\"1. CustomerID faltantes: {missing_customers:,} ({missing_pct:.1f}%)\")\n",
    "\n",
    "# 2. Transacciones canceladas\n",
    "cancelled_transactions = df['InvoiceNo'].astype(str).str.startswith('C').sum()\n",
    "cancelled_pct = (cancelled_transactions / len(df)) * 100\n",
    "print(f\"2. Transacciones canceladas: {cancelled_transactions:,} ({cancelled_pct:.1f}%)\")\n",
    "\n",
    "# 3. Cantidades negativas\n",
    "negative_qty = (df['Quantity'] < 0).sum()\n",
    "negative_qty_pct = (negative_qty / len(df)) * 100\n",
    "print(f\"3. Cantidades negativas: {negative_qty:,} ({negative_qty_pct:.1f}%)\")\n",
    "\n",
    "# 4. Cantidades cero\n",
    "zero_qty = (df['Quantity'] == 0).sum()\n",
    "zero_qty_pct = (zero_qty / len(df)) * 100\n",
    "print(f\"4. Cantidades cero: {zero_qty:,} ({zero_qty_pct:.1f}%)\")\n",
    "\n",
    "# 5. Precios negativos o cero\n",
    "negative_price = (df['UnitPrice'] <= 0).sum()\n",
    "negative_price_pct = (negative_price / len(df)) * 100\n",
    "print(f\"5. Precios negativos/cero: {negative_price:,} ({negative_price_pct:.1f}%)\")\n",
    "\n",
    "# Visualización de problemas de calidad\n",
    "quality_issues = pd.DataFrame({\n",
    "    'Problema': ['CustomerID Faltante', 'Transacciones Canceladas', 'Cantidades Negativas', \n",
    "                'Cantidades Cero', 'Precios Negativos/Cero'],\n",
    "    'Cantidad': [missing_customers, cancelled_transactions, negative_qty, zero_qty, negative_price],\n",
    "    'Porcentaje': [missing_pct, cancelled_pct, negative_qty_pct, zero_qty_pct, negative_price_pct]\n",
    "})\n",
    "\n",
    "fig = px.bar(\n",
    "    quality_issues,\n",
    "    x='Problema',\n",
    "    y='Porcentaje',\n",
    "    title='Distribución de Problemas de Calidad de Datos',\n",
    "    labels={'Porcentaje': 'Porcentaje del Dataset (%)', 'Problema': 'Tipo de Problema'},\n",
    "    text='Porcentaje'\n",
    ")\n",
    "\n",
    "fig.update_traces(texttemplate='%{text:.1f}%', textposition='outside')\n",
    "fig.update_layout(\n",
    "    height=500,\n",
    "    title_x=0.5,\n",
    "    xaxis_tickangle=-45\n",
    ")\n",
    "\n",
    "fig.show()"
   ]
  },
  {
   "cell_type": "markdown",
   "metadata": {},
   "source": [
    "## 2. Proceso de Limpieza de Datos\n",
    "\n",
    "### Estrategia de Limpieza\n",
    "\n",
    "La estrategia de limpieza se basa en los siguientes principios:\n",
    "\n",
    "1. **Eliminación de registros sin CustomerID**: Estos registros no aportan valor para el análisis de fidelización\n",
    "2. **Exclusión de transacciones canceladas**: Las cancelaciones no reflejan comportamiento de compra real\n",
    "3. **Filtrado de cantidades y precios válidos**: Solo transacciones con valores positivos\n",
    "4. **Preservación de la integridad temporal**: Mantener la secuencia temporal de las transacciones"
   ]
  },
  {
   "cell_type": "code",
   "execution_count": 10,
   "metadata": {},
   "outputs": [
    {
     "name": "stdout",
     "output_type": "stream",
     "text": [
      "PROCESO DE LIMPIEZA DE DATOS\n",
      "===================================\n",
      "Dataset inicial: 541,909 registros\n",
      "Paso 1 - Eliminados por CustomerID faltante: 135,080\n",
      "         Registros restantes: 406,829\n",
      "Paso 2 - Eliminadas por cancelación: 8,905\n",
      "         Registros restantes: 397,924\n",
      "Paso 3 - Eliminadas por cantidad inválida: 0\n",
      "         Registros restantes: 397,924\n",
      "Paso 4 - Eliminadas por precio inválido: 40\n",
      "         Registros restantes: 397,884\n",
      "\n",
      "RESUMEN DE LIMPIEZA:\n",
      "Registros originales: 541,909\n",
      "Registros eliminados: 144,025\n",
      "Registros finales: 397,884\n",
      "Tasa de retención: 73.4%\n"
     ]
    }
   ],
   "source": [
    "# Proceso de limpieza paso a paso\n",
    "print(\"PROCESO DE LIMPIEZA DE DATOS\")\n",
    "print(\"=\" * 35)\n",
    "\n",
    "# Crear copia para limpieza\n",
    "df_clean = df.copy()\n",
    "print(f\"Dataset inicial: {df_clean.shape[0]:,} registros\")\n",
    "\n",
    "# Paso 1: Eliminar registros sin CustomerID\n",
    "initial_count = len(df_clean)\n",
    "df_clean = df_clean.dropna(subset=['CustomerID'])\n",
    "removed_customers = initial_count - len(df_clean)\n",
    "print(f\"Paso 1 - Eliminados por CustomerID faltante: {removed_customers:,}\")\n",
    "print(f\"         Registros restantes: {len(df_clean):,}\")\n",
    "\n",
    "# Paso 2: Eliminar transacciones canceladas\n",
    "initial_count = len(df_clean)\n",
    "df_clean = df_clean[~df_clean['InvoiceNo'].astype(str).str.startswith('C')]\n",
    "removed_cancelled = initial_count - len(df_clean)\n",
    "print(f\"Paso 2 - Eliminadas por cancelación: {removed_cancelled:,}\")\n",
    "print(f\"         Registros restantes: {len(df_clean):,}\")\n",
    "\n",
    "# Paso 3: Eliminar cantidades negativas o cero\n",
    "initial_count = len(df_clean)\n",
    "df_clean = df_clean[df_clean['Quantity'] > 0]\n",
    "removed_quantity = initial_count - len(df_clean)\n",
    "print(f\"Paso 3 - Eliminadas por cantidad inválida: {removed_quantity:,}\")\n",
    "print(f\"         Registros restantes: {len(df_clean):,}\")\n",
    "\n",
    "# Paso 4: Eliminar precios negativos o cero\n",
    "initial_count = len(df_clean)\n",
    "df_clean = df_clean[df_clean['UnitPrice'] > 0]\n",
    "removed_price = initial_count - len(df_clean)\n",
    "print(f\"Paso 4 - Eliminadas por precio inválido: {removed_price:,}\")\n",
    "print(f\"         Registros restantes: {len(df_clean):,}\")\n",
    "\n",
    "# Resumen de limpieza\n",
    "total_removed = len(df) - len(df_clean)\n",
    "retention_rate = (len(df_clean) / len(df)) * 100\n",
    "\n",
    "print(f\"\\nRESUMEN DE LIMPIEZA:\")\n",
    "print(f\"Registros originales: {len(df):,}\")\n",
    "print(f\"Registros eliminados: {total_removed:,}\")\n",
    "print(f\"Registros finales: {len(df_clean):,}\")\n",
    "print(f\"Tasa de retención: {retention_rate:.1f}%\")"
   ]
  },
  {
   "cell_type": "markdown",
   "metadata": {},
   "source": [
    "## 3. Creación de Variables Derivadas\n",
    "\n",
    "Una vez limpio el dataset, procedemos a crear variables derivadas que serán útiles para el análisis posterior."
   ]
  },
  {
   "cell_type": "code",
   "execution_count": 11,
   "metadata": {},
   "outputs": [
    {
     "name": "stdout",
     "output_type": "stream",
     "text": [
      "CREACIÓN DE VARIABLES DERIVADAS\n",
      "========================================\n",
      "1. Variable 'Revenue' creada (Quantity × UnitPrice)\n",
      "2. Componentes temporales extraídos (Year, Month, DayOfWeek, Hour, Quarter)\n",
      "3. Variables categóricas derivadas (IsWeekend, TimeOfDay)\n",
      "\n",
      "Dataset final: 397,884 filas × 16 columnas\n",
      "Nuevas columnas: ['Revenue', 'Year', 'Month', 'DayOfWeek', 'Hour', 'Quarter', 'IsWeekend', 'TimeOfDay']\n",
      "\n",
      "Estadísticas de Revenue:\n",
      "Media: £22.40\n",
      "Mediana: £11.80\n",
      "Desviación estándar: £309.07\n",
      "Rango: £0.00 - £168469.60\n"
     ]
    }
   ],
   "source": [
    "# Creación de variables derivadas\n",
    "print(\"CREACIÓN DE VARIABLES DERIVADAS\")\n",
    "print(\"=\" * 40)\n",
    "\n",
    "# 1. Variable de ingresos por transacción\n",
    "df_clean['Revenue'] = df_clean['Quantity'] * df_clean['UnitPrice']\n",
    "print(\"1. Variable 'Revenue' creada (Quantity × UnitPrice)\")\n",
    "\n",
    "# 2. Componentes temporales\n",
    "df_clean['Year'] = df_clean['InvoiceDate'].dt.year\n",
    "df_clean['Month'] = df_clean['InvoiceDate'].dt.month\n",
    "df_clean['DayOfWeek'] = df_clean['InvoiceDate'].dt.dayofweek\n",
    "df_clean['Hour'] = df_clean['InvoiceDate'].dt.hour\n",
    "df_clean['Quarter'] = df_clean['InvoiceDate'].dt.quarter\n",
    "print(\"2. Componentes temporales extraídos (Year, Month, DayOfWeek, Hour, Quarter)\")\n",
    "\n",
    "# 3. Variables categóricas derivadas\n",
    "df_clean['IsWeekend'] = df_clean['DayOfWeek'].isin([5, 6])\n",
    "df_clean['TimeOfDay'] = pd.cut(\n",
    "    df_clean['Hour'], \n",
    "    bins=[0, 6, 12, 18, 24], \n",
    "    labels=['Madrugada', 'Mañana', 'Tarde', 'Noche'],\n",
    "    include_lowest=True\n",
    ")\n",
    "print(\"3. Variables categóricas derivadas (IsWeekend, TimeOfDay)\")\n",
    "\n",
    "# Verificar las nuevas variables\n",
    "print(f\"\\nDataset final: {df_clean.shape[0]:,} filas × {df_clean.shape[1]} columnas\")\n",
    "print(f\"Nuevas columnas: {[col for col in df_clean.columns if col not in df.columns]}\")\n",
    "\n",
    "# Estadísticas básicas de la variable Revenue\n",
    "print(f\"\\nEstadísticas de Revenue:\")\n",
    "print(f\"Media: £{df_clean['Revenue'].mean():.2f}\")\n",
    "print(f\"Mediana: £{df_clean['Revenue'].median():.2f}\")\n",
    "print(f\"Desviación estándar: £{df_clean['Revenue'].std():.2f}\")\n",
    "print(f\"Rango: £{df_clean['Revenue'].min():.2f} - £{df_clean['Revenue'].max():.2f}\")"
   ]
  },
  {
   "cell_type": "markdown",
   "metadata": {},
   "source": [
    "## 4. Análisis Post-Limpieza\n",
    "\n",
    "Evaluamos el impacto de la limpieza en las características del dataset."
   ]
  },
  {
   "cell_type": "code",
   "execution_count": 12,
   "metadata": {},
   "outputs": [
    {
     "name": "stdout",
     "output_type": "stream",
     "text": [
      "ANÁLISIS POST-LIMPIEZA\n",
      "==============================\n",
      "Comparación antes y después de la limpieza:\n"
     ]
    },
    {
     "data": {
      "text/html": [
       "<div>\n",
       "<style scoped>\n",
       "    .dataframe tbody tr th:only-of-type {\n",
       "        vertical-align: middle;\n",
       "    }\n",
       "\n",
       "    .dataframe tbody tr th {\n",
       "        vertical-align: top;\n",
       "    }\n",
       "\n",
       "    .dataframe thead th {\n",
       "        text-align: right;\n",
       "    }\n",
       "</style>\n",
       "<table border=\"1\" class=\"dataframe\">\n",
       "  <thead>\n",
       "    <tr style=\"text-align: right;\">\n",
       "      <th></th>\n",
       "      <th>Métrica</th>\n",
       "      <th>Original</th>\n",
       "      <th>Limpio</th>\n",
       "      <th>Cambio_%</th>\n",
       "    </tr>\n",
       "  </thead>\n",
       "  <tbody>\n",
       "    <tr>\n",
       "      <th>0</th>\n",
       "      <td>Registros totales</td>\n",
       "      <td>541909</td>\n",
       "      <td>397884</td>\n",
       "      <td>-26.6</td>\n",
       "    </tr>\n",
       "    <tr>\n",
       "      <th>1</th>\n",
       "      <td>Clientes únicos</td>\n",
       "      <td>4372</td>\n",
       "      <td>4338</td>\n",
       "      <td>-0.8</td>\n",
       "    </tr>\n",
       "    <tr>\n",
       "      <th>2</th>\n",
       "      <td>Productos únicos</td>\n",
       "      <td>4070</td>\n",
       "      <td>3665</td>\n",
       "      <td>-10.0</td>\n",
       "    </tr>\n",
       "    <tr>\n",
       "      <th>3</th>\n",
       "      <td>Facturas únicas</td>\n",
       "      <td>25900</td>\n",
       "      <td>18532</td>\n",
       "      <td>-28.4</td>\n",
       "    </tr>\n",
       "  </tbody>\n",
       "</table>\n",
       "</div>"
      ],
      "text/plain": [
       "             Métrica  Original  Limpio  Cambio_%\n",
       "0  Registros totales    541909  397884     -26.6\n",
       "1    Clientes únicos      4372    4338      -0.8\n",
       "2   Productos únicos      4070    3665     -10.0\n",
       "3    Facturas únicas     25900   18532     -28.4"
      ]
     },
     "metadata": {},
     "output_type": "display_data"
    },
    {
     "ename": "NameError",
     "evalue": "name 'make_subplots' is not defined",
     "output_type": "error",
     "traceback": [
      "\u001b[31m---------------------------------------------------------------------------\u001b[39m",
      "\u001b[31mNameError\u001b[39m                                 Traceback (most recent call last)",
      "\u001b[36mCell\u001b[39m\u001b[36m \u001b[39m\u001b[32mIn[12]\u001b[39m\u001b[32m, line 31\u001b[39m\n\u001b[32m     28\u001b[39m display(comparison_stats)\n\u001b[32m     30\u001b[39m \u001b[38;5;66;03m# Visualización de distribuciones\u001b[39;00m\n\u001b[32m---> \u001b[39m\u001b[32m31\u001b[39m fig = \u001b[43mmake_subplots\u001b[49m(\n\u001b[32m     32\u001b[39m     rows=\u001b[32m2\u001b[39m, cols=\u001b[32m2\u001b[39m,\n\u001b[32m     33\u001b[39m     subplot_titles=(\u001b[33m'\u001b[39m\u001b[33mDistribución de Quantity\u001b[39m\u001b[33m'\u001b[39m, \u001b[33m'\u001b[39m\u001b[33mDistribución de UnitPrice\u001b[39m\u001b[33m'\u001b[39m, \n\u001b[32m     34\u001b[39m                    \u001b[33m'\u001b[39m\u001b[33mDistribución de Revenue\u001b[39m\u001b[33m'\u001b[39m, \u001b[33m'\u001b[39m\u001b[33mTransacciones por Mes\u001b[39m\u001b[33m'\u001b[39m),\n\u001b[32m     35\u001b[39m     specs=[[{\u001b[33m\"\u001b[39m\u001b[33msecondary_y\u001b[39m\u001b[33m\"\u001b[39m: \u001b[38;5;28;01mFalse\u001b[39;00m}, {\u001b[33m\"\u001b[39m\u001b[33msecondary_y\u001b[39m\u001b[33m\"\u001b[39m: \u001b[38;5;28;01mFalse\u001b[39;00m}],\n\u001b[32m     36\u001b[39m            [{\u001b[33m\"\u001b[39m\u001b[33msecondary_y\u001b[39m\u001b[33m\"\u001b[39m: \u001b[38;5;28;01mFalse\u001b[39;00m}, {\u001b[33m\"\u001b[39m\u001b[33msecondary_y\u001b[39m\u001b[33m\"\u001b[39m: \u001b[38;5;28;01mFalse\u001b[39;00m}]]\n\u001b[32m     37\u001b[39m )\n\u001b[32m     39\u001b[39m \u001b[38;5;66;03m# Quantity distribution\u001b[39;00m\n\u001b[32m     40\u001b[39m fig.add_trace(\n\u001b[32m     41\u001b[39m     go.Histogram(x=df_clean[\u001b[33m'\u001b[39m\u001b[33mQuantity\u001b[39m\u001b[33m'\u001b[39m], name=\u001b[33m'\u001b[39m\u001b[33mQuantity\u001b[39m\u001b[33m'\u001b[39m, nbinsx=\u001b[32m50\u001b[39m),\n\u001b[32m     42\u001b[39m     row=\u001b[32m1\u001b[39m, col=\u001b[32m1\u001b[39m\n\u001b[32m     43\u001b[39m )\n",
      "\u001b[31mNameError\u001b[39m: name 'make_subplots' is not defined"
     ]
    }
   ],
   "source": [
    "# Análisis comparativo antes y después de la limpieza\n",
    "print(\"ANÁLISIS POST-LIMPIEZA\")\n",
    "print(\"=\" * 30)\n",
    "\n",
    "# Comparación de estadísticas básicas\n",
    "comparison_stats = pd.DataFrame({\n",
    "    'Métrica': ['Registros totales', 'Clientes únicos', 'Productos únicos', 'Facturas únicas'],\n",
    "    'Original': [\n",
    "        len(df),\n",
    "        df['CustomerID'].nunique(),\n",
    "        df['StockCode'].nunique(),\n",
    "        df['InvoiceNo'].nunique()\n",
    "    ],\n",
    "    'Limpio': [\n",
    "        len(df_clean),\n",
    "        df_clean['CustomerID'].nunique(),\n",
    "        df_clean['StockCode'].nunique(),\n",
    "        df_clean['InvoiceNo'].nunique()\n",
    "    ]\n",
    "})\n",
    "\n",
    "comparison_stats['Cambio_%'] = (\n",
    "    (comparison_stats['Limpio'] - comparison_stats['Original']) / \n",
    "    comparison_stats['Original'] * 100\n",
    ").round(1)\n",
    "\n",
    "print(\"Comparación antes y después de la limpieza:\")\n",
    "display(comparison_stats)\n",
    "\n",
    "# Visualización de distribuciones\n",
    "fig = make_subplots(\n",
    "    rows=2, cols=2,\n",
    "    subplot_titles=('Distribución de Quantity', 'Distribución de UnitPrice', \n",
    "                   'Distribución de Revenue', 'Transacciones por Mes'),\n",
    "    specs=[[{\"secondary_y\": False}, {\"secondary_y\": False}],\n",
    "           [{\"secondary_y\": False}, {\"secondary_y\": False}]]\n",
    ")\n",
    "\n",
    "# Quantity distribution\n",
    "fig.add_trace(\n",
    "    go.Histogram(x=df_clean['Quantity'], name='Quantity', nbinsx=50),\n",
    "    row=1, col=1\n",
    ")\n",
    "\n",
    "# UnitPrice distribution\n",
    "fig.add_trace(\n",
    "    go.Histogram(x=df_clean['UnitPrice'], name='UnitPrice', nbinsx=50),\n",
    "    row=1, col=2\n",
    ")\n",
    "\n",
    "# Revenue distribution\n",
    "fig.add_trace(\n",
    "    go.Histogram(x=df_clean['Revenue'], name='Revenue', nbinsx=50),\n",
    "    row=2, col=1\n",
    ")\n",
    "\n",
    "# Monthly transactions\n",
    "monthly_transactions = df_clean.groupby(['Year', 'Month']).size().reset_index(name='Transactions')\n",
    "monthly_transactions['YearMonth'] = monthly_transactions['Year'].astype(str) + '-' + monthly_transactions['Month'].astype(str).str.zfill(2)\n",
    "\n",
    "fig.add_trace(\n",
    "    go.Scatter(x=monthly_transactions['YearMonth'], y=monthly_transactions['Transactions'], \n",
    "              mode='lines+markers', name='Transacciones Mensuales'),\n",
    "    row=2, col=2\n",
    ")\n",
    "\n",
    "fig.update_layout(height=800, title_text=\"Análisis de Distribuciones Post-Limpieza\")\n",
    "fig.show()"
   ]
  },
  {
   "cell_type": "markdown",
   "metadata": {},
   "source": [
    "## 5. Guardado del Dataset Limpio\n",
    "\n",
    "Finalmente, guardamos el dataset limpio para su uso en las siguientes fases del proyecto."
   ]
  },
  {
   "cell_type": "code",
   "execution_count": 13,
   "metadata": {},
   "outputs": [
    {
     "name": "stdout",
     "output_type": "stream",
     "text": [
      "DATASET LIMPIO GUARDADO\n",
      "==============================\n",
      "Archivo: ../data/processed/online_retail_clean.csv\n",
      "Dimensiones finales: 397,884 filas × 16 columnas\n",
      "Período de datos: 2010-12-01 08:26:00 a 2011-12-09 12:50:00\n",
      "Clientes únicos: 4,338\n",
      "Productos únicos: 3,665\n",
      "Revenue total: £8,911,407.90\n",
      "\n",
      "CALIDAD DEL DATASET FINAL:\n",
      "Valores faltantes: 0\n",
      "Duplicados: 5192\n",
      "Registros con valores negativos: 0\n",
      "Tasa de retención: 73.4%\n",
      "\n",
      "Dataset listo para la fase de ingeniería de características.\n"
     ]
    }
   ],
   "source": [
    "# Guardar dataset limpio\n",
    "output_path = '../data/processed/online_retail_clean.csv'\n",
    "df_clean.to_csv(output_path, index=False)\n",
    "\n",
    "print(\"DATASET LIMPIO GUARDADO\")\n",
    "print(\"=\" * 30)\n",
    "print(f\"Archivo: {output_path}\")\n",
    "print(f\"Dimensiones finales: {df_clean.shape[0]:,} filas × {df_clean.shape[1]} columnas\")\n",
    "print(f\"Período de datos: {df_clean['InvoiceDate'].min()} a {df_clean['InvoiceDate'].max()}\")\n",
    "print(f\"Clientes únicos: {df_clean['CustomerID'].nunique():,}\")\n",
    "print(f\"Productos únicos: {df_clean['StockCode'].nunique():,}\")\n",
    "print(f\"Revenue total: £{df_clean['Revenue'].sum():,.2f}\")\n",
    "\n",
    "# Resumen de calidad final\n",
    "print(f\"\\nCALIDAD DEL DATASET FINAL:\")\n",
    "print(f\"Valores faltantes: {df_clean.isnull().sum().sum()}\")\n",
    "print(f\"Duplicados: {df_clean.duplicated().sum()}\")\n",
    "print(f\"Registros con valores negativos: 0\")\n",
    "print(f\"Tasa de retención: {len(df_clean)/len(df)*100:.1f}%\")\n",
    "\n",
    "print(\"\\nDataset listo para la fase de ingeniería de características.\")"
   ]
  }
 ],
 "metadata": {
  "kernelspec": {
   "display_name": ".venv",
   "language": "python",
   "name": "python3"
  },
  "language_info": {
   "codemirror_mode": {
    "name": "ipython",
    "version": 3
   },
   "file_extension": ".py",
   "mimetype": "text/x-python",
   "name": "python",
   "nbconvert_exporter": "python",
   "pygments_lexer": "ipython3",
   "version": "3.12.3"
  }
 },
 "nbformat": 4,
 "nbformat_minor": 4
}
