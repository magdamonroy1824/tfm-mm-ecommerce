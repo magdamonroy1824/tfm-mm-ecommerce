{
 "cells": [
  {
   "cell_type": "markdown",
   "metadata": {},
   "source": [
    "# Evaluación del Modelo\n",
    "## Predicción de Clientes Fidelizables en E-commerce\n",
    "\n",
    "### Objetivos de la Evaluación\n",
    "\n",
    "Este notebook se enfoca en la evaluación comprehensiva del modelo de fidelización, con especial atención a la prevención del overfitting. Los objetivos específicos incluyen:\n",
    "\n",
    "1. **Evaluación robusta del rendimiento**\n",
    "   - Métricas de clasificación en múltiples conjuntos\n",
    "   - Validación cruzada estratificada\n",
    "   - Análisis de curvas de aprendizaje\n",
    "   - Detección de overfitting/underfitting\n",
    "\n",
    "2. **Análisis de generalización**\n",
    "   - Comparación train vs validation vs test\n",
    "   - Estabilidad de métricas across folds\n",
    "   - Análisis de varianza del modelo\n",
    "\n",
    "3. **Interpretabilidad del modelo**\n",
    "   - Importancia de características\n",
    "   - Análisis de casos límite\n",
    "   - Explicabilidad de predicciones\n",
    "\n",
    "### Marco de Evaluación\n",
    "\n",
    "La evaluación sigue principios rigurosos de validación:\n",
    "- **Separación estricta** de conjuntos train/validation/test\n",
    "- **Validación cruzada estratificada** para robustez\n",
    "- **Múltiples métricas** para evaluación integral\n",
    "- **Análisis de estabilidad** temporal y estadística"
   ]
  },
  {
   "cell_type": "code",
   "execution_count": 19,
   "metadata": {},
   "outputs": [
    {
     "name": "stdout",
     "output_type": "stream",
     "text": [
      "Librerías de evaluación cargadas\n",
      "Fecha de evaluación: 2025-09-01 13:42:38\n"
     ]
    }
   ],
   "source": [
    "# Configuración inicial\n",
    "import pandas as pd\n",
    "import numpy as np\n",
    "import matplotlib.pyplot as plt\n",
    "import seaborn as sns\n",
    "import plotly.express as px\n",
    "import plotly.graph_objects as go\n",
    "from plotly.subplots import make_subplots\n",
    "\n",
    "# Librerías de evaluación\n",
    "from sklearn.metrics import (\n",
    "    classification_report, confusion_matrix, roc_auc_score, roc_curve,\n",
    "    precision_recall_curve, average_precision_score, accuracy_score,\n",
    "    f1_score, precision_score, recall_score\n",
    ")\n",
    "from sklearn.model_selection import (\n",
    "    learning_curve, validation_curve, cross_val_score, \n",
    "    StratifiedKFold, cross_validate\n",
    ")\n",
    "from sklearn.preprocessing import StandardScaler\n",
    "from sklearn.feature_selection import SelectKBest\n",
    "\n",
    "import joblib\n",
    "import json\n",
    "from datetime import datetime\n",
    "import warnings\n",
    "warnings.filterwarnings('ignore')\n",
    "\n",
    "print(\"Librerías de evaluación cargadas\")\n",
    "print(f\"Fecha de evaluación: {datetime.now().strftime('%Y-%m-%d %H:%M:%S')}\")"
   ]
  },
  {
   "cell_type": "code",
   "execution_count": 20,
   "metadata": {},
   "outputs": [
    {
     "name": "stdout",
     "output_type": "stream",
     "text": [
      "Modelo cargado: Random Forest\n",
      "Características seleccionadas: 15\n"
     ]
    }
   ],
   "source": [
    "# Cargar modelo y componentes entrenados\n",
    "try:\n",
    "    best_model = joblib.load('../results/models/best_loyalty_model.pkl')\n",
    "    scaler = joblib.load('../results/models/feature_scaler.pkl')\n",
    "    selector = joblib.load('../results/models/feature_selector.pkl')\n",
    "    \n",
    "    with open('../results/models/model_info.json', 'r') as f:\n",
    "        model_info = json.load(f)\n",
    "    \n",
    "    print(f\"Modelo cargado: {model_info['model_name']}\")\n",
    "    print(f\"Características seleccionadas: {len(model_info['selected_features'])}\")\n",
    "    \n",
    "except FileNotFoundError:\n",
    "    print(\"Modelos no encontrados. Creando modelo sintético para evaluación...\")\n",
    "    \n",
    "    # Crear modelo sintético para demostración\n",
    "    from sklearn.ensemble import RandomForestClassifier\n",
    "    from sklearn.preprocessing import StandardScaler\n",
    "    from sklearn.feature_selection import SelectKBest, f_classif\n",
    "    \n",
    "    best_model = RandomForestClassifier(n_estimators=100, random_state=42)\n",
    "    scaler = StandardScaler()\n",
    "    selector = SelectKBest(score_func=f_classif, k=10)\n",
    "    \n",
    "    model_info = {\n",
    "        'model_name': 'Random Forest',\n",
    "        'selected_features': ['Recency', 'Frequency', 'Monetary', 'AvgRevenue'],\n",
    "        'feature_columns': ['Recency', 'Frequency', 'Monetary', 'AvgRevenue']\n",
    "    }\n",
    "    \n",
    "    print(\"Modelo sintético creado para demostración\")"
   ]
  },
  {
   "cell_type": "markdown",
   "metadata": {},
   "source": [
    "## 1. Preparación de Datos para Evaluación\n",
    "\n",
    "### Estrategia de Validación\n",
    "\n",
    "Para prevenir overfitting, implementamos una estrategia de validación robusta:\n",
    "- **División estratificada** manteniendo proporción de clases\n",
    "- **Validación cruzada** con múltiples folds\n",
    "- **Conjunto de test independiente** nunca visto durante entrenamiento\n",
    "- **Métricas de estabilidad** para detectar sobreajuste"
   ]
  },
  {
   "cell_type": "code",
   "execution_count": 21,
   "metadata": {},
   "outputs": [
    {
     "name": "stdout",
     "output_type": "stream",
     "text": [
      "Dataset cargado: 4,338 clientes\n",
      "Características disponibles: 18\n",
      "Distribución de clases: {0: 2494, 1: 1844}\n",
      "Balance de clases: 42.5% fidelizables\n"
     ]
    }
   ],
   "source": [
    "# Recrear preparación de datos consistente con entrenamiento\n",
    "try:\n",
    "    df = pd.read_csv('../data/processed/customer_features_with_trends.csv')\n",
    "    print(f\"Dataset cargado: {df.shape[0]:,} clientes\")\n",
    "except FileNotFoundError:\n",
    "    # Crear dataset sintético consistente\n",
    "    np.random.seed(42)\n",
    "    n_customers = 1000\n",
    "    \n",
    "    df = pd.DataFrame({\n",
    "        'CustomerID': range(12346, 12346 + n_customers),\n",
    "        'Recency': np.random.exponential(30, n_customers),\n",
    "        'Frequency': np.random.poisson(5, n_customers) + 1,\n",
    "        'Monetary': np.random.gamma(2, 100, n_customers),\n",
    "        'AvgRevenue': np.random.gamma(2, 50, n_customers),\n",
    "        'UniqueProducts': np.random.poisson(8, n_customers) + 2,\n",
    "        'Country': np.random.choice(['UK', 'FR', 'DE'], n_customers, p=[0.7, 0.15, 0.15])\n",
    "    })\n",
    "    \n",
    "    # Variable objetivo con criterios realistas\n",
    "    df['IsLoyal'] = (\n",
    "        (df['Frequency'] >= df['Frequency'].quantile(0.6)) & \n",
    "        (df['Monetary'] >= df['Monetary'].quantile(0.4)) & \n",
    "        (df['Recency'] <= df['Recency'].quantile(0.6))\n",
    "    ).astype(int)\n",
    "    \n",
    "    print(f\"Dataset sintético creado: {df.shape[0]:,} clientes\")\n",
    "\n",
    "# Preparar características\n",
    "feature_columns = model_info.get('feature_columns', ['Recency', 'Frequency', 'Monetary', 'AvgRevenue'])\n",
    "available_features = [col for col in feature_columns if col in df.columns]\n",
    "\n",
    "X = df[available_features].fillna(0)\n",
    "y = df['IsLoyal']\n",
    "\n",
    "print(f\"Características disponibles: {len(available_features)}\")\n",
    "print(f\"Distribución de clases: {y.value_counts().to_dict()}\")\n",
    "print(f\"Balance de clases: {y.mean():.1%} fidelizables\")"
   ]
  },
  {
   "cell_type": "code",
   "execution_count": 22,
   "metadata": {},
   "outputs": [
    {
     "name": "stdout",
     "output_type": "stream",
     "text": [
      "DIVISIÓN DE DATOS PARA EVALUACIÓN ROBUSTA\n",
      "=============================================\n",
      "Entrenamiento: 2,776 muestras (64.0%)\n",
      "Validación: 694 muestras (16.0%)\n",
      "Test: 868 muestras (20.0%)\n",
      "\n",
      "Balance de clases por conjunto:\n",
      "Train: 42.5% fidelizables\n",
      "Validation: 42.5% fidelizables\n",
      "Test: 42.5% fidelizables\n",
      "\n",
      "Características después de selección: 15\n"
     ]
    }
   ],
   "source": [
    "# División estratificada de datos con validación robusta\n",
    "from sklearn.model_selection import train_test_split\n",
    "\n",
    "# División inicial train/test (80/20)\n",
    "X_train_full, X_test, y_train_full, y_test = train_test_split(\n",
    "    X, y, test_size=0.2, random_state=42, stratify=y\n",
    ")\n",
    "\n",
    "# División train/validation (64/16 del total)\n",
    "X_train, X_val, y_train, y_val = train_test_split(\n",
    "    X_train_full, y_train_full, test_size=0.2, random_state=42, stratify=y_train_full\n",
    ")\n",
    "\n",
    "print(\"DIVISIÓN DE DATOS PARA EVALUACIÓN ROBUSTA\")\n",
    "print(\"=\" * 45)\n",
    "print(f\"Entrenamiento: {X_train.shape[0]:,} muestras ({X_train.shape[0]/len(X)*100:.1f}%)\")\n",
    "print(f\"Validación: {X_val.shape[0]:,} muestras ({X_val.shape[0]/len(X)*100:.1f}%)\")\n",
    "print(f\"Test: {X_test.shape[0]:,} muestras ({X_test.shape[0]/len(X)*100:.1f}%)\")\n",
    "\n",
    "# Verificar balance en cada conjunto\n",
    "print(f\"\\nBalance de clases por conjunto:\")\n",
    "print(f\"Train: {y_train.mean():.1%} fidelizables\")\n",
    "print(f\"Validation: {y_val.mean():.1%} fidelizables\")\n",
    "print(f\"Test: {y_test.mean():.1%} fidelizables\")\n",
    "\n",
    "# Aplicar transformaciones\n",
    "X_train_scaled = scaler.fit_transform(X_train)\n",
    "X_val_scaled = scaler.transform(X_val)\n",
    "X_test_scaled = scaler.transform(X_test)\n",
    "\n",
    "# Selección de características\n",
    "X_train_selected = selector.fit_transform(X_train_scaled, y_train)\n",
    "X_val_selected = selector.transform(X_val_scaled)\n",
    "X_test_selected = selector.transform(X_test_scaled)\n",
    "\n",
    "print(f\"\\nCaracterísticas después de selección: {X_train_selected.shape[1]}\")"
   ]
  },
  {
   "cell_type": "markdown",
   "metadata": {},
   "source": [
    "## 2. Análisis de Curvas de Aprendizaje\n",
    "\n",
    "### Detección de Overfitting\n",
    "\n",
    "Las curvas de aprendizaje son fundamentales para detectar:\n",
    "- **Overfitting**: Gran diferencia entre train y validation\n",
    "- **Underfitting**: Ambas curvas convergen a un valor bajo\n",
    "- **Punto óptimo**: Mejor balance bias-variance"
   ]
  },
  {
   "cell_type": "code",
   "execution_count": 23,
   "metadata": {},
   "outputs": [
    {
     "name": "stdout",
     "output_type": "stream",
     "text": [
      "ANÁLISIS DE CURVAS DE APRENDIZAJE\n",
      "========================================\n"
     ]
    },
    {
     "data": {
      "application/vnd.plotly.v1+json": {
       "config": {
        "plotlyServerURL": "https://plot.ly"
       },
       "data": [
        {
         "error_y": {
          "array": {
           "bdata": "AAAAAAAAAAAAAAAAAAAAAAAAAAAAAAAAAAAAAAAAAAAAAAAAAAAAAAAAAAAAAAAA2e2/xSWfjDwAAAAAAAAAANntv8Uln4w8AAAAAAAAAAA=",
           "dtype": "f8"
          },
          "type": "data",
          "visible": true
         },
         "line": {
          "color": "blue"
         },
         "mode": "lines+markers",
         "name": "Training Score",
         "type": "scatter",
         "x": {
          "bdata": "3gC8AZoCeANWBDQFEgbwBs4HrAg=",
          "dtype": "i2"
         },
         "y": {
          "bdata": "AAAAAAAA8D8AAAAAAADwPwAAAAAAAPA/AAAAAAAA8D8AAAAAAADwPwAAAAAAAPA/AAAAAAAA8D8AAAAAAADwPwAAAAAAAPA/AAAAAAAA8D8=",
          "dtype": "f8"
         }
        },
        {
         "error_y": {
          "array": {
           "bdata": "aRzhXkVaOD9bV8eFvFgeP39ZSE4f1RM/nAqm4DaeAT/HF0vYGK78PjiyQa0xS9s+zcwhIgVJ5j6jL0KtMUvbPjNzISIFSeY+mpkhIgVJ1j4=",
           "dtype": "f8"
          },
          "type": "data",
          "visible": true
         },
         "line": {
          "color": "red"
         },
         "mode": "lines+markers",
         "name": "Validation Score",
         "type": "scatter",
         "x": {
          "bdata": "3gC8AZoCeANWBDQFEgbwBs4HrAg=",
          "dtype": "i2"
         },
         "y": {
          "bdata": "QzS8v9387z8bkqrhvP7vP0YkeqVb/+8/qypzScj/7z+9u/Vt0//vP/Bufdv0/+8/ZiY8Se//7z/wbn3b9P/vP2YmPEnv/+8/eLe+bfr/7z8=",
          "dtype": "f8"
         }
        }
       ],
       "layout": {
        "height": 500,
        "template": {
         "data": {
          "bar": [
           {
            "error_x": {
             "color": "#2a3f5f"
            },
            "error_y": {
             "color": "#2a3f5f"
            },
            "marker": {
             "line": {
              "color": "#E5ECF6",
              "width": 0.5
             },
             "pattern": {
              "fillmode": "overlay",
              "size": 10,
              "solidity": 0.2
             }
            },
            "type": "bar"
           }
          ],
          "barpolar": [
           {
            "marker": {
             "line": {
              "color": "#E5ECF6",
              "width": 0.5
             },
             "pattern": {
              "fillmode": "overlay",
              "size": 10,
              "solidity": 0.2
             }
            },
            "type": "barpolar"
           }
          ],
          "carpet": [
           {
            "aaxis": {
             "endlinecolor": "#2a3f5f",
             "gridcolor": "white",
             "linecolor": "white",
             "minorgridcolor": "white",
             "startlinecolor": "#2a3f5f"
            },
            "baxis": {
             "endlinecolor": "#2a3f5f",
             "gridcolor": "white",
             "linecolor": "white",
             "minorgridcolor": "white",
             "startlinecolor": "#2a3f5f"
            },
            "type": "carpet"
           }
          ],
          "choropleth": [
           {
            "colorbar": {
             "outlinewidth": 0,
             "ticks": ""
            },
            "type": "choropleth"
           }
          ],
          "contour": [
           {
            "colorbar": {
             "outlinewidth": 0,
             "ticks": ""
            },
            "colorscale": [
             [
              0,
              "#0d0887"
             ],
             [
              0.1111111111111111,
              "#46039f"
             ],
             [
              0.2222222222222222,
              "#7201a8"
             ],
             [
              0.3333333333333333,
              "#9c179e"
             ],
             [
              0.4444444444444444,
              "#bd3786"
             ],
             [
              0.5555555555555556,
              "#d8576b"
             ],
             [
              0.6666666666666666,
              "#ed7953"
             ],
             [
              0.7777777777777778,
              "#fb9f3a"
             ],
             [
              0.8888888888888888,
              "#fdca26"
             ],
             [
              1,
              "#f0f921"
             ]
            ],
            "type": "contour"
           }
          ],
          "contourcarpet": [
           {
            "colorbar": {
             "outlinewidth": 0,
             "ticks": ""
            },
            "type": "contourcarpet"
           }
          ],
          "heatmap": [
           {
            "colorbar": {
             "outlinewidth": 0,
             "ticks": ""
            },
            "colorscale": [
             [
              0,
              "#0d0887"
             ],
             [
              0.1111111111111111,
              "#46039f"
             ],
             [
              0.2222222222222222,
              "#7201a8"
             ],
             [
              0.3333333333333333,
              "#9c179e"
             ],
             [
              0.4444444444444444,
              "#bd3786"
             ],
             [
              0.5555555555555556,
              "#d8576b"
             ],
             [
              0.6666666666666666,
              "#ed7953"
             ],
             [
              0.7777777777777778,
              "#fb9f3a"
             ],
             [
              0.8888888888888888,
              "#fdca26"
             ],
             [
              1,
              "#f0f921"
             ]
            ],
            "type": "heatmap"
           }
          ],
          "histogram": [
           {
            "marker": {
             "pattern": {
              "fillmode": "overlay",
              "size": 10,
              "solidity": 0.2
             }
            },
            "type": "histogram"
           }
          ],
          "histogram2d": [
           {
            "colorbar": {
             "outlinewidth": 0,
             "ticks": ""
            },
            "colorscale": [
             [
              0,
              "#0d0887"
             ],
             [
              0.1111111111111111,
              "#46039f"
             ],
             [
              0.2222222222222222,
              "#7201a8"
             ],
             [
              0.3333333333333333,
              "#9c179e"
             ],
             [
              0.4444444444444444,
              "#bd3786"
             ],
             [
              0.5555555555555556,
              "#d8576b"
             ],
             [
              0.6666666666666666,
              "#ed7953"
             ],
             [
              0.7777777777777778,
              "#fb9f3a"
             ],
             [
              0.8888888888888888,
              "#fdca26"
             ],
             [
              1,
              "#f0f921"
             ]
            ],
            "type": "histogram2d"
           }
          ],
          "histogram2dcontour": [
           {
            "colorbar": {
             "outlinewidth": 0,
             "ticks": ""
            },
            "colorscale": [
             [
              0,
              "#0d0887"
             ],
             [
              0.1111111111111111,
              "#46039f"
             ],
             [
              0.2222222222222222,
              "#7201a8"
             ],
             [
              0.3333333333333333,
              "#9c179e"
             ],
             [
              0.4444444444444444,
              "#bd3786"
             ],
             [
              0.5555555555555556,
              "#d8576b"
             ],
             [
              0.6666666666666666,
              "#ed7953"
             ],
             [
              0.7777777777777778,
              "#fb9f3a"
             ],
             [
              0.8888888888888888,
              "#fdca26"
             ],
             [
              1,
              "#f0f921"
             ]
            ],
            "type": "histogram2dcontour"
           }
          ],
          "mesh3d": [
           {
            "colorbar": {
             "outlinewidth": 0,
             "ticks": ""
            },
            "type": "mesh3d"
           }
          ],
          "parcoords": [
           {
            "line": {
             "colorbar": {
              "outlinewidth": 0,
              "ticks": ""
             }
            },
            "type": "parcoords"
           }
          ],
          "pie": [
           {
            "automargin": true,
            "type": "pie"
           }
          ],
          "scatter": [
           {
            "fillpattern": {
             "fillmode": "overlay",
             "size": 10,
             "solidity": 0.2
            },
            "type": "scatter"
           }
          ],
          "scatter3d": [
           {
            "line": {
             "colorbar": {
              "outlinewidth": 0,
              "ticks": ""
             }
            },
            "marker": {
             "colorbar": {
              "outlinewidth": 0,
              "ticks": ""
             }
            },
            "type": "scatter3d"
           }
          ],
          "scattercarpet": [
           {
            "marker": {
             "colorbar": {
              "outlinewidth": 0,
              "ticks": ""
             }
            },
            "type": "scattercarpet"
           }
          ],
          "scattergeo": [
           {
            "marker": {
             "colorbar": {
              "outlinewidth": 0,
              "ticks": ""
             }
            },
            "type": "scattergeo"
           }
          ],
          "scattergl": [
           {
            "marker": {
             "colorbar": {
              "outlinewidth": 0,
              "ticks": ""
             }
            },
            "type": "scattergl"
           }
          ],
          "scattermap": [
           {
            "marker": {
             "colorbar": {
              "outlinewidth": 0,
              "ticks": ""
             }
            },
            "type": "scattermap"
           }
          ],
          "scattermapbox": [
           {
            "marker": {
             "colorbar": {
              "outlinewidth": 0,
              "ticks": ""
             }
            },
            "type": "scattermapbox"
           }
          ],
          "scatterpolar": [
           {
            "marker": {
             "colorbar": {
              "outlinewidth": 0,
              "ticks": ""
             }
            },
            "type": "scatterpolar"
           }
          ],
          "scatterpolargl": [
           {
            "marker": {
             "colorbar": {
              "outlinewidth": 0,
              "ticks": ""
             }
            },
            "type": "scatterpolargl"
           }
          ],
          "scatterternary": [
           {
            "marker": {
             "colorbar": {
              "outlinewidth": 0,
              "ticks": ""
             }
            },
            "type": "scatterternary"
           }
          ],
          "surface": [
           {
            "colorbar": {
             "outlinewidth": 0,
             "ticks": ""
            },
            "colorscale": [
             [
              0,
              "#0d0887"
             ],
             [
              0.1111111111111111,
              "#46039f"
             ],
             [
              0.2222222222222222,
              "#7201a8"
             ],
             [
              0.3333333333333333,
              "#9c179e"
             ],
             [
              0.4444444444444444,
              "#bd3786"
             ],
             [
              0.5555555555555556,
              "#d8576b"
             ],
             [
              0.6666666666666666,
              "#ed7953"
             ],
             [
              0.7777777777777778,
              "#fb9f3a"
             ],
             [
              0.8888888888888888,
              "#fdca26"
             ],
             [
              1,
              "#f0f921"
             ]
            ],
            "type": "surface"
           }
          ],
          "table": [
           {
            "cells": {
             "fill": {
              "color": "#EBF0F8"
             },
             "line": {
              "color": "white"
             }
            },
            "header": {
             "fill": {
              "color": "#C8D4E3"
             },
             "line": {
              "color": "white"
             }
            },
            "type": "table"
           }
          ]
         },
         "layout": {
          "annotationdefaults": {
           "arrowcolor": "#2a3f5f",
           "arrowhead": 0,
           "arrowwidth": 1
          },
          "autotypenumbers": "strict",
          "coloraxis": {
           "colorbar": {
            "outlinewidth": 0,
            "ticks": ""
           }
          },
          "colorscale": {
           "diverging": [
            [
             0,
             "#8e0152"
            ],
            [
             0.1,
             "#c51b7d"
            ],
            [
             0.2,
             "#de77ae"
            ],
            [
             0.3,
             "#f1b6da"
            ],
            [
             0.4,
             "#fde0ef"
            ],
            [
             0.5,
             "#f7f7f7"
            ],
            [
             0.6,
             "#e6f5d0"
            ],
            [
             0.7,
             "#b8e186"
            ],
            [
             0.8,
             "#7fbc41"
            ],
            [
             0.9,
             "#4d9221"
            ],
            [
             1,
             "#276419"
            ]
           ],
           "sequential": [
            [
             0,
             "#0d0887"
            ],
            [
             0.1111111111111111,
             "#46039f"
            ],
            [
             0.2222222222222222,
             "#7201a8"
            ],
            [
             0.3333333333333333,
             "#9c179e"
            ],
            [
             0.4444444444444444,
             "#bd3786"
            ],
            [
             0.5555555555555556,
             "#d8576b"
            ],
            [
             0.6666666666666666,
             "#ed7953"
            ],
            [
             0.7777777777777778,
             "#fb9f3a"
            ],
            [
             0.8888888888888888,
             "#fdca26"
            ],
            [
             1,
             "#f0f921"
            ]
           ],
           "sequentialminus": [
            [
             0,
             "#0d0887"
            ],
            [
             0.1111111111111111,
             "#46039f"
            ],
            [
             0.2222222222222222,
             "#7201a8"
            ],
            [
             0.3333333333333333,
             "#9c179e"
            ],
            [
             0.4444444444444444,
             "#bd3786"
            ],
            [
             0.5555555555555556,
             "#d8576b"
            ],
            [
             0.6666666666666666,
             "#ed7953"
            ],
            [
             0.7777777777777778,
             "#fb9f3a"
            ],
            [
             0.8888888888888888,
             "#fdca26"
            ],
            [
             1,
             "#f0f921"
            ]
           ]
          },
          "colorway": [
           "#636efa",
           "#EF553B",
           "#00cc96",
           "#ab63fa",
           "#FFA15A",
           "#19d3f3",
           "#FF6692",
           "#B6E880",
           "#FF97FF",
           "#FECB52"
          ],
          "font": {
           "color": "#2a3f5f"
          },
          "geo": {
           "bgcolor": "white",
           "lakecolor": "white",
           "landcolor": "#E5ECF6",
           "showlakes": true,
           "showland": true,
           "subunitcolor": "white"
          },
          "hoverlabel": {
           "align": "left"
          },
          "hovermode": "closest",
          "mapbox": {
           "style": "light"
          },
          "paper_bgcolor": "white",
          "plot_bgcolor": "#E5ECF6",
          "polar": {
           "angularaxis": {
            "gridcolor": "white",
            "linecolor": "white",
            "ticks": ""
           },
           "bgcolor": "#E5ECF6",
           "radialaxis": {
            "gridcolor": "white",
            "linecolor": "white",
            "ticks": ""
           }
          },
          "scene": {
           "xaxis": {
            "backgroundcolor": "#E5ECF6",
            "gridcolor": "white",
            "gridwidth": 2,
            "linecolor": "white",
            "showbackground": true,
            "ticks": "",
            "zerolinecolor": "white"
           },
           "yaxis": {
            "backgroundcolor": "#E5ECF6",
            "gridcolor": "white",
            "gridwidth": 2,
            "linecolor": "white",
            "showbackground": true,
            "ticks": "",
            "zerolinecolor": "white"
           },
           "zaxis": {
            "backgroundcolor": "#E5ECF6",
            "gridcolor": "white",
            "gridwidth": 2,
            "linecolor": "white",
            "showbackground": true,
            "ticks": "",
            "zerolinecolor": "white"
           }
          },
          "shapedefaults": {
           "line": {
            "color": "#2a3f5f"
           }
          },
          "ternary": {
           "aaxis": {
            "gridcolor": "white",
            "linecolor": "white",
            "ticks": ""
           },
           "baxis": {
            "gridcolor": "white",
            "linecolor": "white",
            "ticks": ""
           },
           "bgcolor": "#E5ECF6",
           "caxis": {
            "gridcolor": "white",
            "linecolor": "white",
            "ticks": ""
           }
          },
          "title": {
           "x": 0.05
          },
          "xaxis": {
           "automargin": true,
           "gridcolor": "white",
           "linecolor": "white",
           "ticks": "",
           "title": {
            "standoff": 15
           },
           "zerolinecolor": "white",
           "zerolinewidth": 2
          },
          "yaxis": {
           "automargin": true,
           "gridcolor": "white",
           "linecolor": "white",
           "ticks": "",
           "title": {
            "standoff": 15
           },
           "zerolinecolor": "white",
           "zerolinewidth": 2
          }
         }
        },
        "title": {
         "text": "Curvas de Aprendizaje - Detección de Overfitting"
        },
        "xaxis": {
         "title": {
          "text": "Tamaño del Conjunto de Entrenamiento"
         }
        },
        "yaxis": {
         "title": {
          "text": "ROC-AUC Score"
         }
        }
       }
      }
     },
     "metadata": {},
     "output_type": "display_data"
    },
    {
     "name": "stdout",
     "output_type": "stream",
     "text": [
      "\n",
      "Análisis de Overfitting:\n",
      "Score final de entrenamiento: 1.0000 ± 0.0000\n",
      "Score final de validación: 1.0000 ± 0.0000\n",
      "Gap train-validation: 0.0000\n",
      "✅ Modelo bien generalizado (gap < 0.02)\n"
     ]
    }
   ],
   "source": [
    "# Entrenar modelo si no está entrenado\n",
    "if not hasattr(best_model, 'feature_importances_') and hasattr(best_model, 'fit'):\n",
    "    print(\"Entrenando modelo para evaluación...\")\n",
    "    best_model.fit(X_train_selected, y_train)\n",
    "\n",
    "# Generar curvas de aprendizaje para detectar overfitting\n",
    "def plot_learning_curves(model, X, y, cv=5):\n",
    "    \"\"\"\n",
    "    Genera curvas de aprendizaje para detectar overfitting\n",
    "    \"\"\"\n",
    "    train_sizes = np.linspace(0.1, 1.0, 10)\n",
    "    \n",
    "    train_sizes_abs, train_scores, val_scores = learning_curve(\n",
    "        model, X, y, \n",
    "        train_sizes=train_sizes,\n",
    "        cv=StratifiedKFold(n_splits=cv, shuffle=True, random_state=42),\n",
    "        scoring='roc_auc',\n",
    "        n_jobs=-1,\n",
    "        random_state=42\n",
    "    )\n",
    "    \n",
    "    # Calcular estadísticas\n",
    "    train_mean = np.mean(train_scores, axis=1)\n",
    "    train_std = np.std(train_scores, axis=1)\n",
    "    val_mean = np.mean(val_scores, axis=1)\n",
    "    val_std = np.std(val_scores, axis=1)\n",
    "    \n",
    "    return train_sizes_abs, train_mean, train_std, val_mean, val_std\n",
    "\n",
    "print(\"ANÁLISIS DE CURVAS DE APRENDIZAJE\")\n",
    "print(\"=\" * 40)\n",
    "\n",
    "# Generar curvas de aprendizaje\n",
    "train_sizes, train_mean, train_std, val_mean, val_std = plot_learning_curves(\n",
    "    best_model, X_train_selected, y_train, cv=5\n",
    ")\n",
    "\n",
    "# Visualización con Plotly\n",
    "fig = go.Figure()\n",
    "\n",
    "# Curva de entrenamiento\n",
    "fig.add_trace(go.Scatter(\n",
    "    x=train_sizes,\n",
    "    y=train_mean,\n",
    "    mode='lines+markers',\n",
    "    name='Training Score',\n",
    "    line=dict(color='blue'),\n",
    "    error_y=dict(type='data', array=train_std, visible=True)\n",
    "))\n",
    "\n",
    "# Curva de validación\n",
    "fig.add_trace(go.Scatter(\n",
    "    x=train_sizes,\n",
    "    y=val_mean,\n",
    "    mode='lines+markers',\n",
    "    name='Validation Score',\n",
    "    line=dict(color='red'),\n",
    "    error_y=dict(type='data', array=val_std, visible=True)\n",
    "))\n",
    "\n",
    "fig.update_layout(\n",
    "    title='Curvas de Aprendizaje - Detección de Overfitting',\n",
    "    xaxis_title='Tamaño del Conjunto de Entrenamiento',\n",
    "    yaxis_title='ROC-AUC Score',\n",
    "    height=500\n",
    ")\n",
    "\n",
    "fig.show()\n",
    "\n",
    "# Análisis de overfitting\n",
    "final_gap = train_mean[-1] - val_mean[-1]\n",
    "print(f\"\\nAnálisis de Overfitting:\")\n",
    "print(f\"Score final de entrenamiento: {train_mean[-1]:.4f} ± {train_std[-1]:.4f}\")\n",
    "print(f\"Score final de validación: {val_mean[-1]:.4f} ± {val_std[-1]:.4f}\")\n",
    "print(f\"Gap train-validation: {final_gap:.4f}\")\n",
    "\n",
    "if final_gap > 0.05:\n",
    "    print(\"⚠️  ALERTA: Posible overfitting detectado (gap > 0.05)\")\n",
    "elif final_gap < 0.02:\n",
    "    print(\"✅ Modelo bien generalizado (gap < 0.02)\")\n",
    "else:\n",
    "    print(\"⚡ Overfitting moderado - monitorear\")"
   ]
  },
  {
   "cell_type": "markdown",
   "metadata": {},
   "source": [
    "## 3. Validación Cruzada Robusta\n",
    "\n",
    "### Evaluación de Estabilidad\n",
    "\n",
    "La validación cruzada estratificada proporciona una evaluación más robusta del rendimiento del modelo y ayuda a detectar inestabilidad que podría indicar overfitting."
   ]
  },
  {
   "cell_type": "code",
   "execution_count": 24,
   "metadata": {},
   "outputs": [
    {
     "name": "stdout",
     "output_type": "stream",
     "text": [
      "VALIDACIÓN CRUZADA ROBUSTA\n",
      "===================================\n",
      "Resultados de Validación Cruzada:\n",
      "     Métrica  Train_Mean  Train_Std  Val_Mean  Val_Std     Gap  Stability\n",
      "0   ACCURACY         1.0        0.0    0.9989   0.0014  0.0011     0.0014\n",
      "1  PRECISION         1.0        0.0    0.9975   0.0034  0.0025     0.0034\n",
      "2     RECALL         1.0        0.0    1.0000   0.0000  0.0000     0.0000\n",
      "3         F1         1.0        0.0    0.9987   0.0017  0.0013     0.0017\n",
      "4    ROC_AUC         1.0        0.0    1.0000   0.0000  0.0000     0.0000\n"
     ]
    },
    {
     "data": {
      "application/vnd.plotly.v1+json": {
       "config": {
        "plotlyServerURL": "https://plot.ly"
       },
       "data": [
        {
         "name": "Gap Train-Val",
         "type": "bar",
         "x": [
          "ACCURACY",
          "PRECISION",
          "RECALL",
          "F1",
          "ROC_AUC"
         ],
         "xaxis": "x",
         "y": {
          "bdata": "AObN+GG2UT8AJfysX65kPwAAAAAAAAAAAPo6s/zAVD8AACAiBUnGPg==",
          "dtype": "f8"
         },
         "yaxis": "y"
        },
        {
         "name": "Desviación Estándar",
         "type": "bar",
         "x": [
          "ACCURACY",
          "PRECISION",
          "RECALL",
          "F1",
          "ROC_AUC"
         ],
         "xaxis": "x2",
         "y": {
          "bdata": "AOBn9tedVz+V/wmr+4xrPwAAAAAAAAAAsHCYWt6oWz+amSEiBUnWPg==",
          "dtype": "f8"
         },
         "yaxis": "y2"
        }
       ],
       "layout": {
        "annotations": [
         {
          "font": {
           "size": 16
          },
          "showarrow": false,
          "text": "Gap Train-Validation",
          "x": 0.225,
          "xanchor": "center",
          "xref": "paper",
          "y": 1,
          "yanchor": "bottom",
          "yref": "paper"
         },
         {
          "font": {
           "size": 16
          },
          "showarrow": false,
          "text": "Estabilidad de Métricas",
          "x": 0.775,
          "xanchor": "center",
          "xref": "paper",
          "y": 1,
          "yanchor": "bottom",
          "yref": "paper"
         }
        ],
        "height": 400,
        "template": {
         "data": {
          "bar": [
           {
            "error_x": {
             "color": "#2a3f5f"
            },
            "error_y": {
             "color": "#2a3f5f"
            },
            "marker": {
             "line": {
              "color": "#E5ECF6",
              "width": 0.5
             },
             "pattern": {
              "fillmode": "overlay",
              "size": 10,
              "solidity": 0.2
             }
            },
            "type": "bar"
           }
          ],
          "barpolar": [
           {
            "marker": {
             "line": {
              "color": "#E5ECF6",
              "width": 0.5
             },
             "pattern": {
              "fillmode": "overlay",
              "size": 10,
              "solidity": 0.2
             }
            },
            "type": "barpolar"
           }
          ],
          "carpet": [
           {
            "aaxis": {
             "endlinecolor": "#2a3f5f",
             "gridcolor": "white",
             "linecolor": "white",
             "minorgridcolor": "white",
             "startlinecolor": "#2a3f5f"
            },
            "baxis": {
             "endlinecolor": "#2a3f5f",
             "gridcolor": "white",
             "linecolor": "white",
             "minorgridcolor": "white",
             "startlinecolor": "#2a3f5f"
            },
            "type": "carpet"
           }
          ],
          "choropleth": [
           {
            "colorbar": {
             "outlinewidth": 0,
             "ticks": ""
            },
            "type": "choropleth"
           }
          ],
          "contour": [
           {
            "colorbar": {
             "outlinewidth": 0,
             "ticks": ""
            },
            "colorscale": [
             [
              0,
              "#0d0887"
             ],
             [
              0.1111111111111111,
              "#46039f"
             ],
             [
              0.2222222222222222,
              "#7201a8"
             ],
             [
              0.3333333333333333,
              "#9c179e"
             ],
             [
              0.4444444444444444,
              "#bd3786"
             ],
             [
              0.5555555555555556,
              "#d8576b"
             ],
             [
              0.6666666666666666,
              "#ed7953"
             ],
             [
              0.7777777777777778,
              "#fb9f3a"
             ],
             [
              0.8888888888888888,
              "#fdca26"
             ],
             [
              1,
              "#f0f921"
             ]
            ],
            "type": "contour"
           }
          ],
          "contourcarpet": [
           {
            "colorbar": {
             "outlinewidth": 0,
             "ticks": ""
            },
            "type": "contourcarpet"
           }
          ],
          "heatmap": [
           {
            "colorbar": {
             "outlinewidth": 0,
             "ticks": ""
            },
            "colorscale": [
             [
              0,
              "#0d0887"
             ],
             [
              0.1111111111111111,
              "#46039f"
             ],
             [
              0.2222222222222222,
              "#7201a8"
             ],
             [
              0.3333333333333333,
              "#9c179e"
             ],
             [
              0.4444444444444444,
              "#bd3786"
             ],
             [
              0.5555555555555556,
              "#d8576b"
             ],
             [
              0.6666666666666666,
              "#ed7953"
             ],
             [
              0.7777777777777778,
              "#fb9f3a"
             ],
             [
              0.8888888888888888,
              "#fdca26"
             ],
             [
              1,
              "#f0f921"
             ]
            ],
            "type": "heatmap"
           }
          ],
          "histogram": [
           {
            "marker": {
             "pattern": {
              "fillmode": "overlay",
              "size": 10,
              "solidity": 0.2
             }
            },
            "type": "histogram"
           }
          ],
          "histogram2d": [
           {
            "colorbar": {
             "outlinewidth": 0,
             "ticks": ""
            },
            "colorscale": [
             [
              0,
              "#0d0887"
             ],
             [
              0.1111111111111111,
              "#46039f"
             ],
             [
              0.2222222222222222,
              "#7201a8"
             ],
             [
              0.3333333333333333,
              "#9c179e"
             ],
             [
              0.4444444444444444,
              "#bd3786"
             ],
             [
              0.5555555555555556,
              "#d8576b"
             ],
             [
              0.6666666666666666,
              "#ed7953"
             ],
             [
              0.7777777777777778,
              "#fb9f3a"
             ],
             [
              0.8888888888888888,
              "#fdca26"
             ],
             [
              1,
              "#f0f921"
             ]
            ],
            "type": "histogram2d"
           }
          ],
          "histogram2dcontour": [
           {
            "colorbar": {
             "outlinewidth": 0,
             "ticks": ""
            },
            "colorscale": [
             [
              0,
              "#0d0887"
             ],
             [
              0.1111111111111111,
              "#46039f"
             ],
             [
              0.2222222222222222,
              "#7201a8"
             ],
             [
              0.3333333333333333,
              "#9c179e"
             ],
             [
              0.4444444444444444,
              "#bd3786"
             ],
             [
              0.5555555555555556,
              "#d8576b"
             ],
             [
              0.6666666666666666,
              "#ed7953"
             ],
             [
              0.7777777777777778,
              "#fb9f3a"
             ],
             [
              0.8888888888888888,
              "#fdca26"
             ],
             [
              1,
              "#f0f921"
             ]
            ],
            "type": "histogram2dcontour"
           }
          ],
          "mesh3d": [
           {
            "colorbar": {
             "outlinewidth": 0,
             "ticks": ""
            },
            "type": "mesh3d"
           }
          ],
          "parcoords": [
           {
            "line": {
             "colorbar": {
              "outlinewidth": 0,
              "ticks": ""
             }
            },
            "type": "parcoords"
           }
          ],
          "pie": [
           {
            "automargin": true,
            "type": "pie"
           }
          ],
          "scatter": [
           {
            "fillpattern": {
             "fillmode": "overlay",
             "size": 10,
             "solidity": 0.2
            },
            "type": "scatter"
           }
          ],
          "scatter3d": [
           {
            "line": {
             "colorbar": {
              "outlinewidth": 0,
              "ticks": ""
             }
            },
            "marker": {
             "colorbar": {
              "outlinewidth": 0,
              "ticks": ""
             }
            },
            "type": "scatter3d"
           }
          ],
          "scattercarpet": [
           {
            "marker": {
             "colorbar": {
              "outlinewidth": 0,
              "ticks": ""
             }
            },
            "type": "scattercarpet"
           }
          ],
          "scattergeo": [
           {
            "marker": {
             "colorbar": {
              "outlinewidth": 0,
              "ticks": ""
             }
            },
            "type": "scattergeo"
           }
          ],
          "scattergl": [
           {
            "marker": {
             "colorbar": {
              "outlinewidth": 0,
              "ticks": ""
             }
            },
            "type": "scattergl"
           }
          ],
          "scattermap": [
           {
            "marker": {
             "colorbar": {
              "outlinewidth": 0,
              "ticks": ""
             }
            },
            "type": "scattermap"
           }
          ],
          "scattermapbox": [
           {
            "marker": {
             "colorbar": {
              "outlinewidth": 0,
              "ticks": ""
             }
            },
            "type": "scattermapbox"
           }
          ],
          "scatterpolar": [
           {
            "marker": {
             "colorbar": {
              "outlinewidth": 0,
              "ticks": ""
             }
            },
            "type": "scatterpolar"
           }
          ],
          "scatterpolargl": [
           {
            "marker": {
             "colorbar": {
              "outlinewidth": 0,
              "ticks": ""
             }
            },
            "type": "scatterpolargl"
           }
          ],
          "scatterternary": [
           {
            "marker": {
             "colorbar": {
              "outlinewidth": 0,
              "ticks": ""
             }
            },
            "type": "scatterternary"
           }
          ],
          "surface": [
           {
            "colorbar": {
             "outlinewidth": 0,
             "ticks": ""
            },
            "colorscale": [
             [
              0,
              "#0d0887"
             ],
             [
              0.1111111111111111,
              "#46039f"
             ],
             [
              0.2222222222222222,
              "#7201a8"
             ],
             [
              0.3333333333333333,
              "#9c179e"
             ],
             [
              0.4444444444444444,
              "#bd3786"
             ],
             [
              0.5555555555555556,
              "#d8576b"
             ],
             [
              0.6666666666666666,
              "#ed7953"
             ],
             [
              0.7777777777777778,
              "#fb9f3a"
             ],
             [
              0.8888888888888888,
              "#fdca26"
             ],
             [
              1,
              "#f0f921"
             ]
            ],
            "type": "surface"
           }
          ],
          "table": [
           {
            "cells": {
             "fill": {
              "color": "#EBF0F8"
             },
             "line": {
              "color": "white"
             }
            },
            "header": {
             "fill": {
              "color": "#C8D4E3"
             },
             "line": {
              "color": "white"
             }
            },
            "type": "table"
           }
          ]
         },
         "layout": {
          "annotationdefaults": {
           "arrowcolor": "#2a3f5f",
           "arrowhead": 0,
           "arrowwidth": 1
          },
          "autotypenumbers": "strict",
          "coloraxis": {
           "colorbar": {
            "outlinewidth": 0,
            "ticks": ""
           }
          },
          "colorscale": {
           "diverging": [
            [
             0,
             "#8e0152"
            ],
            [
             0.1,
             "#c51b7d"
            ],
            [
             0.2,
             "#de77ae"
            ],
            [
             0.3,
             "#f1b6da"
            ],
            [
             0.4,
             "#fde0ef"
            ],
            [
             0.5,
             "#f7f7f7"
            ],
            [
             0.6,
             "#e6f5d0"
            ],
            [
             0.7,
             "#b8e186"
            ],
            [
             0.8,
             "#7fbc41"
            ],
            [
             0.9,
             "#4d9221"
            ],
            [
             1,
             "#276419"
            ]
           ],
           "sequential": [
            [
             0,
             "#0d0887"
            ],
            [
             0.1111111111111111,
             "#46039f"
            ],
            [
             0.2222222222222222,
             "#7201a8"
            ],
            [
             0.3333333333333333,
             "#9c179e"
            ],
            [
             0.4444444444444444,
             "#bd3786"
            ],
            [
             0.5555555555555556,
             "#d8576b"
            ],
            [
             0.6666666666666666,
             "#ed7953"
            ],
            [
             0.7777777777777778,
             "#fb9f3a"
            ],
            [
             0.8888888888888888,
             "#fdca26"
            ],
            [
             1,
             "#f0f921"
            ]
           ],
           "sequentialminus": [
            [
             0,
             "#0d0887"
            ],
            [
             0.1111111111111111,
             "#46039f"
            ],
            [
             0.2222222222222222,
             "#7201a8"
            ],
            [
             0.3333333333333333,
             "#9c179e"
            ],
            [
             0.4444444444444444,
             "#bd3786"
            ],
            [
             0.5555555555555556,
             "#d8576b"
            ],
            [
             0.6666666666666666,
             "#ed7953"
            ],
            [
             0.7777777777777778,
             "#fb9f3a"
            ],
            [
             0.8888888888888888,
             "#fdca26"
            ],
            [
             1,
             "#f0f921"
            ]
           ]
          },
          "colorway": [
           "#636efa",
           "#EF553B",
           "#00cc96",
           "#ab63fa",
           "#FFA15A",
           "#19d3f3",
           "#FF6692",
           "#B6E880",
           "#FF97FF",
           "#FECB52"
          ],
          "font": {
           "color": "#2a3f5f"
          },
          "geo": {
           "bgcolor": "white",
           "lakecolor": "white",
           "landcolor": "#E5ECF6",
           "showlakes": true,
           "showland": true,
           "subunitcolor": "white"
          },
          "hoverlabel": {
           "align": "left"
          },
          "hovermode": "closest",
          "mapbox": {
           "style": "light"
          },
          "paper_bgcolor": "white",
          "plot_bgcolor": "#E5ECF6",
          "polar": {
           "angularaxis": {
            "gridcolor": "white",
            "linecolor": "white",
            "ticks": ""
           },
           "bgcolor": "#E5ECF6",
           "radialaxis": {
            "gridcolor": "white",
            "linecolor": "white",
            "ticks": ""
           }
          },
          "scene": {
           "xaxis": {
            "backgroundcolor": "#E5ECF6",
            "gridcolor": "white",
            "gridwidth": 2,
            "linecolor": "white",
            "showbackground": true,
            "ticks": "",
            "zerolinecolor": "white"
           },
           "yaxis": {
            "backgroundcolor": "#E5ECF6",
            "gridcolor": "white",
            "gridwidth": 2,
            "linecolor": "white",
            "showbackground": true,
            "ticks": "",
            "zerolinecolor": "white"
           },
           "zaxis": {
            "backgroundcolor": "#E5ECF6",
            "gridcolor": "white",
            "gridwidth": 2,
            "linecolor": "white",
            "showbackground": true,
            "ticks": "",
            "zerolinecolor": "white"
           }
          },
          "shapedefaults": {
           "line": {
            "color": "#2a3f5f"
           }
          },
          "ternary": {
           "aaxis": {
            "gridcolor": "white",
            "linecolor": "white",
            "ticks": ""
           },
           "baxis": {
            "gridcolor": "white",
            "linecolor": "white",
            "ticks": ""
           },
           "bgcolor": "#E5ECF6",
           "caxis": {
            "gridcolor": "white",
            "linecolor": "white",
            "ticks": ""
           }
          },
          "title": {
           "x": 0.05
          },
          "xaxis": {
           "automargin": true,
           "gridcolor": "white",
           "linecolor": "white",
           "ticks": "",
           "title": {
            "standoff": 15
           },
           "zerolinecolor": "white",
           "zerolinewidth": 2
          },
          "yaxis": {
           "automargin": true,
           "gridcolor": "white",
           "linecolor": "white",
           "ticks": "",
           "title": {
            "standoff": 15
           },
           "zerolinecolor": "white",
           "zerolinewidth": 2
          }
         }
        },
        "title": {
         "text": "Análisis de Estabilidad del Modelo"
        },
        "xaxis": {
         "anchor": "y",
         "domain": [
          0,
          0.45
         ]
        },
        "xaxis2": {
         "anchor": "y2",
         "domain": [
          0.55,
          1
         ]
        },
        "yaxis": {
         "anchor": "x",
         "domain": [
          0,
          1
         ]
        },
        "yaxis2": {
         "anchor": "x2",
         "domain": [
          0,
          1
         ]
        }
       }
      }
     },
     "metadata": {},
     "output_type": "display_data"
    },
    {
     "name": "stdout",
     "output_type": "stream",
     "text": [
      "\n",
      "Diagnóstico de Overfitting:\n",
      "Gap promedio train-validation: 0.0010\n",
      "Gap máximo: 0.0025\n",
      "Estabilidad promedio: 0.0013\n",
      "✅ Modelo estable sin indicios de overfitting\n"
     ]
    }
   ],
   "source": [
    "# Validación cruzada comprehensiva\n",
    "def comprehensive_cross_validation(model, X, y, cv_folds=5):\n",
    "    \"\"\"\n",
    "    Realiza validación cruzada con múltiples métricas\n",
    "    \"\"\"\n",
    "    cv = StratifiedKFold(n_splits=cv_folds, shuffle=True, random_state=42)\n",
    "    \n",
    "    scoring_metrics = {\n",
    "        'accuracy': 'accuracy',\n",
    "        'precision': 'precision',\n",
    "        'recall': 'recall',\n",
    "        'f1': 'f1',\n",
    "        'roc_auc': 'roc_auc'\n",
    "    }\n",
    "    \n",
    "    cv_results = cross_validate(\n",
    "        model, X, y, \n",
    "        cv=cv, \n",
    "        scoring=scoring_metrics,\n",
    "        return_train_score=True,\n",
    "        n_jobs=-1\n",
    "    )\n",
    "    \n",
    "    return cv_results\n",
    "\n",
    "print(\"VALIDACIÓN CRUZADA ROBUSTA\")\n",
    "print(\"=\" * 35)\n",
    "\n",
    "# Ejecutar validación cruzada\n",
    "cv_results = comprehensive_cross_validation(best_model, X_train_selected, y_train, cv_folds=5)\n",
    "\n",
    "# Analizar resultados\n",
    "metrics_analysis = []\n",
    "\n",
    "for metric in ['accuracy', 'precision', 'recall', 'f1', 'roc_auc']:\n",
    "    train_scores = cv_results[f'train_{metric}']\n",
    "    val_scores = cv_results[f'test_{metric}']\n",
    "    \n",
    "    analysis = {\n",
    "        'Métrica': metric.upper(),\n",
    "        'Train_Mean': train_scores.mean(),\n",
    "        'Train_Std': train_scores.std(),\n",
    "        'Val_Mean': val_scores.mean(),\n",
    "        'Val_Std': val_scores.std(),\n",
    "        'Gap': train_scores.mean() - val_scores.mean(),\n",
    "        'Stability': val_scores.std()  # Menor es mejor\n",
    "    }\n",
    "    \n",
    "    metrics_analysis.append(analysis)\n",
    "\n",
    "# Crear DataFrame para análisis\n",
    "cv_df = pd.DataFrame(metrics_analysis)\n",
    "\n",
    "print(\"Resultados de Validación Cruzada:\")\n",
    "print(cv_df.round(4))\n",
    "\n",
    "# Visualización de estabilidad\n",
    "fig = make_subplots(\n",
    "    rows=1, cols=2,\n",
    "    subplot_titles=('Gap Train-Validation', 'Estabilidad de Métricas')\n",
    ")\n",
    "\n",
    "# Gap train-validation\n",
    "fig.add_trace(\n",
    "    go.Bar(x=cv_df['Métrica'], y=cv_df['Gap'], name='Gap Train-Val'),\n",
    "    row=1, col=1\n",
    ")\n",
    "\n",
    "# Estabilidad (desviación estándar)\n",
    "fig.add_trace(\n",
    "    go.Bar(x=cv_df['Métrica'], y=cv_df['Stability'], name='Desviación Estándar'),\n",
    "    row=1, col=2\n",
    ")\n",
    "\n",
    "fig.update_layout(height=400, title_text=\"Análisis de Estabilidad del Modelo\")\n",
    "fig.show()\n",
    "\n",
    "# Diagnóstico de overfitting\n",
    "avg_gap = cv_df['Gap'].mean()\n",
    "max_gap = cv_df['Gap'].max()\n",
    "avg_stability = cv_df['Stability'].mean()\n",
    "\n",
    "print(f\"\\nDiagnóstico de Overfitting:\")\n",
    "print(f\"Gap promedio train-validation: {avg_gap:.4f}\")\n",
    "print(f\"Gap máximo: {max_gap:.4f}\")\n",
    "print(f\"Estabilidad promedio: {avg_stability:.4f}\")\n",
    "\n",
    "# Criterios de diagnóstico\n",
    "overfitting_indicators = 0\n",
    "if avg_gap > 0.05:\n",
    "    overfitting_indicators += 1\n",
    "    print(\"⚠️  Gap promedio alto - posible overfitting\")\n",
    "if max_gap > 0.1:\n",
    "    overfitting_indicators += 1\n",
    "    print(\"⚠️  Gap máximo muy alto - overfitting severo\")\n",
    "if avg_stability > 0.05:\n",
    "    overfitting_indicators += 1\n",
    "    print(\"⚠️  Alta variabilidad - modelo inestable\")\n",
    "\n",
    "if overfitting_indicators == 0:\n",
    "    print(\"✅ Modelo estable sin indicios de overfitting\")\n",
    "elif overfitting_indicators <= 1:\n",
    "    print(\"⚡ Overfitting leve - aceptable\")\n",
    "else:\n",
    "    print(\"🚨 Overfitting significativo - requiere regularización\")"
   ]
  }
 ],
 "metadata": {
  "kernelspec": {
   "display_name": "Python 3",
   "language": "python",
   "name": "python3"
  },
  "language_info": {
   "codemirror_mode": {
    "name": "ipython",
    "version": 3
   },
   "file_extension": ".py",
   "mimetype": "text/x-python",
   "name": "python",
   "nbconvert_exporter": "python",
   "pygments_lexer": "ipython3",
   "version": "3.8.0"
  }
 },
 "nbformat": 4,
 "nbformat_minor": 4
}
