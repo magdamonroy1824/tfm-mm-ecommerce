{
 "cells": [
  {
   "cell_type": "markdown",
   "metadata": {},
   "source": [
    "# 08. Segmentación de Clientes y Recomendaciones de Negocio\n",
    "\n",
    "**TFM: Predicción de Clientes Fidelizables en E-commerce**  \n",
    "**Autora:** Magda Monroy Jiménez  \n",
    "**Universidad:** Complutense de Madrid\n",
    "\n",
    "Este notebook aplica el modelo entrenado para segmentar todos los clientes y generar recomendaciones específicas de negocio."
   ]
  },
  {
   "cell_type": "code",
   "execution_count": null,
   "metadata": {},
   "outputs": [],
   "source": [
    "import pandas as pd\n",
    "import numpy as np\n",
    "import pickle\n",
    "import plotly.express as px\n",
    "import plotly.graph_objects as go\n",
    "from plotly.subplots import make_subplots\n",
    "import sys\n",
    "from pathlib import Path\n",
    "\n",
    "# Agregar src al path\n",
    "sys.path.append(str(Path().parent / \"src\"))\n",
    "from utils.business_segmentation import generate_customer_insights\n",
    "\n",
    "print(\"✅ Librerías cargadas correctamente\")"
   ]
  },
  {
   "cell_type": "markdown",
   "metadata": {},
   "source": [
    "## 1. Cargar Datos y Modelo"
   ]
  },
  {
   "cell_type": "code",
   "execution_count": null,
   "metadata": {},
   "outputs": [],
   "source": [
    "# Cargar datos de clientes\n",
    "df_customers = pd.read_csv('../data/processed/customer_features_with_trends.csv')\n",
    "\n",
    "# Cargar modelo entrenado\n",
    "model = pickle.load(open('../results/models/best_loyalty_model.pkl', 'rb'))\n",
    "scaler = pickle.load(open('../results/models/feature_scaler.pkl', 'rb'))\n",
    "selector = pickle.load(open('../results/models/feature_selector.pkl', 'rb'))\n",
    "\n",
    "print(f\"📊 Datos cargados: {df_customers.shape[0]:,} clientes\")\n",
    "print(f\"🤖 Modelo cargado: {type(model).__name__}\")\n",
    "\n",
    "df_customers.head()"
   ]
  },
  {
   "cell_type": "markdown",
   "metadata": {},
   "source": [
    "## 2. Generar Predicciones para Todos los Clientes"
   ]
  },
  {
   "cell_type": "code",
   "execution_count": null,
   "metadata": {},
   "outputs": [],
   "source": [
    "# Preparar características para predicción\n",
    "from sklearn.preprocessing import LabelEncoder\n",
    "\n",
    "# Codificar país si no existe\n",
    "if 'Country_encoded' not in df_customers.columns:\n",
    "    le = LabelEncoder()\n",
    "    df_customers['Country_encoded'] = le.fit_transform(df_customers['Country'].fillna('Unknown'))\n",
    "\n",
    "# Características para el modelo\n",
    "feature_cols = [\n",
    "    'Recency', 'Frequency', 'Monetary', 'TotalQuantity', 'AvgQuantity',\n",
    "    'AvgUnitPrice', 'AvgRevenue', 'UniqueProducts', 'CustomerLifespan',\n",
    "    'avg_trends_online_shopping', 'std_trends_online_shopping', 'max_trends_online_shopping',\n",
    "    'avg_trends_retail_therapy', 'std_trends_retail_therapy', 'max_trends_retail_therapy',\n",
    "    'avg_trends_gift_shopping', 'std_trends_gift_shopping', 'max_trends_gift_shopping',\n",
    "    'Country_encoded'\n",
    "]\n",
    "\n",
    "# Preparar datos\n",
    "X = df_customers[feature_cols].fillna(0)\n",
    "\n",
    "# Hacer predicciones\n",
    "X_scaled = scaler.transform(X)\n",
    "X_selected = selector.transform(X_scaled)\n",
    "\n",
    "# Obtener probabilidades\n",
    "probabilities = model.predict_proba(X_selected)[:, 1]\n",
    "predictions = model.predict(X_selected)\n",
    "\n",
    "# Agregar al DataFrame\n",
    "df_customers['loyalty_probability'] = probabilities\n",
    "df_customers['loyalty_prediction'] = predictions\n",
    "\n",
    "print(f\"✅ Predicciones generadas para {len(df_customers):,} clientes\")\n",
    "print(f\"📈 Probabilidad promedio: {probabilities.mean():.1%}\")\n",
    "print(f\"🎯 Clientes fidelizables predichos: {predictions.sum():,} ({predictions.mean():.1%})\")"
   ]
  },
  {
   "cell_type": "markdown",
   "metadata": {},
   "source": [
    "## 3. Segmentación de Clientes"
   ]
  },
  {
   "cell_type": "code",
   "execution_count": null,
   "metadata": {},
   "outputs": [],
   "source": [
    "# Aplicar segmentación a todos los clientes\n",
    "segments = []\n",
    "value_scores = []\n",
    "risk_levels = []\n",
    "suggested_budgets = []\n",
    "\n",
    "for idx, row in df_customers.iterrows():\n",
    "    customer_data = {\n",
    "        'Recency': row['Recency'],\n",
    "        'Frequency': row['Frequency'],\n",
    "        'Monetary': row['Monetary'],\n",
    "        'probability': row['loyalty_probability']\n",
    "    }\n",
    "    \n",
    "    insights = generate_customer_insights(customer_data)\n",
    "    \n",
    "    segments.append(insights['segment'])\n",
    "    value_scores.append(insights['value_score'])\n",
    "    risk_levels.append(insights['risk_level'])\n",
    "    suggested_budgets.append(insights['suggested_budget'])\n",
    "\n",
    "# Agregar al DataFrame\n",
    "df_customers['segment'] = segments\n",
    "df_customers['value_score'] = value_scores\n",
    "df_customers['risk_level'] = risk_levels\n",
    "df_customers['suggested_budget'] = suggested_budgets\n",
    "\n",
    "print(\"✅ Segmentación completada\")\n",
    "\n",
    "# Resumen de segmentos\n",
    "segment_summary = df_customers.groupby('segment').agg({\n",
    "    'CustomerID': 'count',\n",
    "    'Monetary': 'sum',\n",
    "    'loyalty_probability': 'mean',\n",
    "    'value_score': 'mean',\n",
    "    'suggested_budget': 'sum'\n",
    "}).round(2)\n",
    "\n",
    "segment_summary.columns = ['Customers', 'Total_Revenue', 'Avg_Probability', 'Avg_Value_Score', 'Total_Budget']\n",
    "segment_summary['Revenue_Share'] = (segment_summary['Total_Revenue'] / segment_summary['Total_Revenue'].sum() * 100).round(1)\n",
    "segment_summary['Customer_Share'] = (segment_summary['Customers'] / segment_summary['Customers'].sum() * 100).round(1)\n",
    "\n",
    "print(\"\\n📊 RESUMEN DE SEGMENTOS:\")\n",
    "segment_summary"
   ]
  },
  {
   "cell_type": "markdown",
   "metadata": {},
   "source": [
    "## 4. Visualizaciones de Segmentación"
   ]
  },
  {
   "cell_type": "code",
   "execution_count": null,
   "metadata": {},
   "outputs": [],
   "source": [
    "# Gráfico de distribución de segmentos\n",
    "fig_segments = px.pie(\n",
    "    values=segment_summary['Customers'], \n",
    "    names=segment_summary.index,\n",
    "    title=\"Distribución de Clientes por Segmento\",\n",
    "    color_discrete_sequence=px.colors.qualitative.Set3\n",
    ")\n",
    "\n",
    "fig_segments.update_traces(textposition='inside', textinfo='percent+label')\n",
    "fig_segments.show()\n",
    "\n",
    "# Gráfico de revenue por segmento\n",
    "fig_revenue = px.bar(\n",
    "    x=segment_summary.index,\n",
    "    y=segment_summary['Total_Revenue'],\n",
    "    title=\"Revenue Total por Segmento\",\n",
    "    labels={'x': 'Segmento', 'y': 'Revenue Total (£)'},\n",
    "    color=segment_summary['Total_Revenue'],\n",
    "    color_continuous_scale='Viridis'\n",
    ")\n",
    "\n",
    "fig_revenue.show()"
   ]
  },
  {
   "cell_type": "code",
   "execution_count": null,
   "metadata": {},
   "outputs": [],
   "source": [
    "# Scatter plot: Probabilidad vs Value Score por segmento\n",
    "fig_scatter = px.scatter(\n",
    "    df_customers,\n",
    "    x='loyalty_probability',\n",
    "    y='value_score',\n",
    "    color='segment',\n",
    "    size='Monetary',\n",
    "    hover_data=['CustomerID', 'Recency', 'Frequency'],\n",
    "    title=\"Segmentación: Probabilidad de Fidelización vs Valor del Cliente\",\n",
    "    labels={\n",
    "        'loyalty_probability': 'Probabilidad de Fidelización',\n",
    "        'value_score': 'Score de Valor del Cliente'\n",
    "    }\n",
    ")\n",
    "\n",
    "fig_scatter.show()"
   ]
  },
  {
   "cell_type": "markdown",
   "metadata": {},
   "source": [
    "## 5. Análisis de Clientes de Alto Valor"
   ]
  },
  {
   "cell_type": "code",
   "execution_count": null,
   "metadata": {},
   "outputs": [],
   "source": [
    "# Identificar clientes de alto valor (top 10%)\n",
    "high_value_threshold = df_customers['value_score'].quantile(0.9)\n",
    "high_value_customers = df_customers[df_customers['value_score'] >= high_value_threshold].copy()\n",
    "\n",
    "print(f\"🏆 CLIENTES DE ALTO VALOR (Top 10%):\")\n",
    "print(f\"Threshold: {high_value_threshold:.1f}/100\")\n",
    "print(f\"Cantidad: {len(high_value_customers):,} clientes\")\n",
    "print(f\"Revenue total: £{high_value_customers['Monetary'].sum():,.2f}\")\n",
    "print(f\"% del revenue total: {(high_value_customers['Monetary'].sum() / df_customers['Monetary'].sum() * 100):.1f}%\")\n",
    "\n",
    "# Top 20 clientes por valor\n",
    "top_customers = high_value_customers.nlargest(20, 'value_score')[[\n",
    "    'CustomerID', 'segment', 'value_score', 'loyalty_probability', \n",
    "    'Recency', 'Frequency', 'Monetary', 'suggested_budget'\n",
    "]].round(2)\n",
    "\n",
    "print(\"\\n🎯 TOP 20 CLIENTES POR VALOR:\")\n",
    "top_customers"
   ]
  },
  {
   "cell_type": "markdown",
   "metadata": {},
   "source": [
    "## 6. Recomendaciones de Campaña por Segmento"
   ]
  },
  {
   "cell_type": "code",
   "execution_count": null,
   "metadata": {},
   "outputs": [],
   "source": [
    "# Análisis de presupuesto de campaña\n",
    "campaign_analysis = df_customers.groupby('segment').agg({\n",
    "    'CustomerID': 'count',\n",
    "    'suggested_budget': ['sum', 'mean'],\n",
    "    'loyalty_probability': 'mean',\n",
    "    'Monetary': 'mean'\n",
    "}).round(2)\n",
    "\n",
    "campaign_analysis.columns = ['Customers', 'Total_Budget', 'Avg_Budget_Per_Customer', 'Avg_Probability', 'Avg_Monetary']\n",
    "\n",
    "# Calcular ROI esperado (simplificado)\n",
    "campaign_analysis['Expected_ROI_Min'] = campaign_analysis['Avg_Monetary'] * 0.1  # 10% incremento conservador\n",
    "campaign_analysis['ROI_Ratio'] = (campaign_analysis['Expected_ROI_Min'] / campaign_analysis['Avg_Budget_Per_Customer']).round(2)\n",
    "\n",
    "print(\"💰 ANÁLISIS DE PRESUPUESTO DE CAMPAÑA POR SEGMENTO:\")\n",
    "campaign_analysis"
   ]
  },
  {
   "cell_type": "code",
   "execution_count": null,
   "metadata": {},
   "outputs": [],
   "source": [
    "# Visualización de presupuesto vs ROI esperado\n",
    "fig_budget = px.scatter(\n",
    "    x=campaign_analysis['Avg_Budget_Per_Customer'],\n",
    "    y=campaign_analysis['ROI_Ratio'],\n",
    "    size=campaign_analysis['Customers'],\n",
    "    color=campaign_analysis.index,\n",
    "    title=\"Presupuesto vs ROI Esperado por Segmento\",\n",
    "    labels={\n",
    "        'x': 'Presupuesto Promedio por Cliente (£)',\n",
    "        'y': 'Ratio ROI Esperado',\n",
    "        'color': 'Segmento'\n",
    "    },\n",
    "    hover_name=campaign_analysis.index\n",
    ")\n",
    "\n",
    "# Agregar línea de break-even (ROI = 1)\n",
    "fig_budget.add_hline(y=1, line_dash=\"dash\", line_color=\"red\", \n",
    "                    annotation_text=\"Break-even (ROI = 1)\")\n",
    "\n",
    "fig_budget.show()"
   ]
  },
  {
   "cell_type": "markdown",
   "metadata": {},
   "source": [
    "## 7. Clientes en Riesgo - Acción Inmediata"
   ]
  },
  {
   "cell_type": "code",
   "execution_count": null,
   "metadata": {},
   "outputs": [],
   "source": [
    "# Identificar clientes en riesgo que requieren atención inmediata\n",
    "at_risk_segments = ['At Risk', 'Need Attention', 'Lost']\n",
    "at_risk_customers = df_customers[df_customers['segment'].isin(at_risk_segments)].copy()\n",
    "\n",
    "# Priorizar por valor histórico\n",
    "at_risk_priority = at_risk_customers[\n",
    "    (at_risk_customers['Monetary'] > df_customers['Monetary'].median()) &\n",
    "    (at_risk_customers['Frequency'] >= 2)\n",
    "].copy()\n",
    "\n",
    "print(f\"🚨 CLIENTES EN RIESGO - ACCIÓN INMEDIATA:\")\n",
    "print(f\"Total en riesgo: {len(at_risk_customers):,} clientes\")\n",
    "print(f\"Alta prioridad: {len(at_risk_priority):,} clientes\")\n",
    "print(f\"Revenue en riesgo: £{at_risk_priority['Monetary'].sum():,.2f}\")\n",
    "\n",
    "# Top clientes en riesgo por valor\n",
    "top_at_risk = at_risk_priority.nlargest(15, 'Monetary')[[\n",
    "    'CustomerID', 'segment', 'Recency', 'Frequency', 'Monetary', \n",
    "    'loyalty_probability', 'suggested_budget'\n",
    "]].round(2)\n",
    "\n",
    "print(\"\\n⚠️ TOP 15 CLIENTES EN RIESGO (Por valor histórico):\")\n",
    "top_at_risk"
   ]
  },
  {
   "cell_type": "markdown",
   "metadata": {},
   "source": [
    "## 8. Exportar Resultados para Tableau"
   ]
  },
  {
   "cell_type": "code",
   "execution_count": null,
   "metadata": {},
   "outputs": [],
   "source": [
    "# Preparar datos para Tableau\n",
    "tableau_export = df_customers[[\n",
    "    'CustomerID', 'Country', 'segment', 'loyalty_probability', 'loyalty_prediction',\n",
    "    'value_score', 'risk_level', 'suggested_budget',\n",
    "    'Recency', 'Frequency', 'Monetary', 'UniqueProducts', 'CustomerLifespan'\n",
    "]].copy()\n",
    "\n",
    "# Agregar categorías adicionales\n",
    "tableau_export['probability_category'] = pd.cut(\n",
    "    tableau_export['loyalty_probability'], \n",
    "    bins=[0, 0.2, 0.4, 0.6, 0.8, 1.0],\n",
    "    labels=['Very Low', 'Low', 'Medium', 'High', 'Very High']\n",
    ")\n",
    "\n",
    "tableau_export['value_category'] = pd.cut(\n",
    "    tableau_export['value_score'],\n",
    "    bins=[0, 20, 40, 60, 80, 100],\n",
    "    labels=['Low Value', 'Medium-Low', 'Medium', 'Medium-High', 'High Value']\n",
    ")\n",
    "\n",
    "# Guardar para Tableau\n",
    "tableau_export.to_csv('../results/tableau/customer_segmentation_analysis.csv', index=False)\n",
    "\n",
    "print(\"✅ Datos exportados para Tableau\")\n",
    "print(f\"📁 Archivo: customer_segmentation_analysis.csv\")\n",
    "print(f\"📊 Registros: {len(tableau_export):,}\")\n",
    "\n",
    "# Resumen final\n",
    "print(\"\\n🎯 RESUMEN EJECUTIVO:\")\n",
    "print(f\"• Total clientes analizados: {len(df_customers):,}\")\n",
    "print(f\"• Clientes fidelizables predichos: {df_customers['loyalty_prediction'].sum():,} ({df_customers['loyalty_prediction'].mean():.1%})\")\n",
    "print(f\"• Revenue total: £{df_customers['Monetary'].sum():,.2f}\")\n",
    "print(f\"• Presupuesto total sugerido: £{df_customers['suggested_budget'].sum():,.2f}\")\n",
    "print(f\"• ROI esperado promedio: {(df_customers['Monetary'].sum() * 0.1 / df_customers['suggested_budget'].sum()):.1f}x\")"
   ]
  },
  {
   "cell_type": "markdown",
   "metadata": {},
   "source": [
    "## 9. Conclusiones y Recomendaciones\n",
    "\n",
    "### Hallazgos Clave:\n",
    "\n",
    "1. **Segmentación Efectiva**: El modelo identifica claramente diferentes segmentos de clientes con características y necesidades distintas.\n",
    "\n",
    "2. **Concentración de Valor**: Los clientes \"Champions\" y \"Loyal Customers\" representan una proporción significativa del revenue total.\n",
    "\n",
    "3. **Oportunidades de Retención**: Clientes \"At Risk\" con alto valor histórico requieren atención inmediata.\n",
    "\n",
    "### Recomendaciones Estratégicas:\n",
    "\n",
    "1. **Priorizar Champions y Loyal Customers**: Invertir en programas VIP y de fidelización premium.\n",
    "\n",
    "2. **Desarrollar Potential Loyalists**: Implementar programas de onboarding y engagement.\n",
    "\n",
    "3. **Recuperar At Risk**: Campañas urgentes de retención para clientes de alto valor.\n",
    "\n",
    "4. **Optimizar Presupuesto**: Asignar recursos según el ROI esperado por segmento.\n",
    "\n",
    "### Próximos Pasos:\n",
    "\n",
    "1. Implementar campañas diferenciadas por segmento\n",
    "2. Monitorear métricas de conversión y ROI\n",
    "3. Actualizar modelo con nuevos datos trimestralmente\n",
    "4. Desarrollar dashboard en tiempo real para seguimiento"
   ]
  }
 ],
 "metadata": {
  "kernelspec": {
   "display_name": "Python 3",
   "language": "python",
   "name": "python3"
  },
  "language_info": {
   "codemirror_mode": {
    "name": "ipython",
    "version": 3
   },
   "file_extension": ".py",
   "mimetype": "text/x-python",
   "name": "python",
   "nbconvert_exporter": "python",
   "pygments_lexer": "ipython3",
   "version": "3.8.0"
  }
 },
 "nbformat": 4,
 "nbformat_minor": 4
}
